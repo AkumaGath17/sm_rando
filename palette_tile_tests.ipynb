{
 "cells": [
  {
   "cell_type": "code",
   "execution_count": 42,
   "metadata": {},
   "outputs": [
    {
     "name": "stdout",
     "output_type": "stream",
     "text": [
      "The autoreload extension is already loaded. To reload it, use:\n",
      "  %reload_ext autoreload\n"
     ]
    }
   ],
   "source": [
    "%load_ext autoreload\n",
    "%autoreload 2"
   ]
  },
  {
   "cell_type": "code",
   "execution_count": 78,
   "metadata": {},
   "outputs": [],
   "source": [
    "from rom_tools import rom_manager\n",
    "from rom_tools.address import *\n",
    "from rom_tools import byte_ops\n",
    "from rom_tools.compress import decompress"
   ]
  },
  {
   "cell_type": "code",
   "execution_count": 88,
   "metadata": {},
   "outputs": [],
   "source": [
    "from PIL import Image"
   ]
  },
  {
   "cell_type": "code",
   "execution_count": 79,
   "metadata": {},
   "outputs": [],
   "source": [
    "rom_m = rom_manager.RomManager(\"../sm_guinea_pig.smc\", \"../sm_newlevel.smc\")"
   ]
  },
  {
   "cell_type": "markdown",
   "metadata": {},
   "source": [
    "## Palette"
   ]
  },
  {
   "cell_type": "code",
   "execution_count": 80,
   "metadata": {},
   "outputs": [
    {
     "data": {
      "text/plain": [
       "0x212d7c"
      ]
     },
     "execution_count": 80,
     "metadata": {},
     "output_type": "execute_result"
    }
   ],
   "source": [
    "# ucp - Upper Crateria Palette\n",
    "ucp_snes = 0xc2ad7c\n",
    "ucp_addr = Address(0)\n",
    "ucp_addr.from_snes(0xc2ad7c)\n",
    "ucp_addr"
   ]
  },
  {
   "cell_type": "code",
   "execution_count": 81,
   "metadata": {},
   "outputs": [
    {
     "data": {
      "text/plain": [
       "256"
      ]
     },
     "execution_count": 81,
     "metadata": {},
     "output_type": "execute_result"
    }
   ],
   "source": [
    "compressed_ucp = rom_m.read_from_clean(ucp_addr, 1000)\n",
    "ucp = decompress.decompress(compressed_ucp)\n",
    "len(ucp)"
   ]
  },
  {
   "cell_type": "code",
   "execution_count": 82,
   "metadata": {},
   "outputs": [],
   "source": [
    "# 15 bit BGR, highest bit unused\n",
    "def get_rgb(color):\n",
    "    r_mask = 0b11111\n",
    "    g_mask = r_mask << 5\n",
    "    b_mask = r_mask << 10\n",
    "    # Mask out the correct 5-bit values\n",
    "    r5 = color & r_mask\n",
    "    g5 = (color & g_mask) >> 5\n",
    "    b5 = (color & b_mask) >> 10\n",
    "    # Upscale them to 8-bit\n",
    "    r8 = r5 << 3\n",
    "    g8 = g5 << 3\n",
    "    b8 = b5 << 3\n",
    "    return (r8, g8, b8)\n",
    "    "
   ]
  },
  {
   "cell_type": "code",
   "execution_count": 83,
   "metadata": {},
   "outputs": [
    {
     "data": {
      "text/plain": [
       "(168, 120, 184)"
      ]
     },
     "execution_count": 83,
     "metadata": {},
     "output_type": "execute_result"
    }
   ],
   "source": [
    "i = int.from_bytes(ucp[8:10], byteorder='little')\n",
    "get_rgb(i)"
   ]
  },
  {
   "cell_type": "code",
   "execution_count": 91,
   "metadata": {},
   "outputs": [],
   "source": [
    "palette_bytes = rom_m.read_compressed_list(ucp_addr, 128, 2)\n",
    "palette_colors = list(map(lambda x: get_rgb(int.from_bytes(x, byteorder='little')), palette_bytes))"
   ]
  },
  {
   "cell_type": "code",
   "execution_count": 93,
   "metadata": {},
   "outputs": [],
   "source": [
    "palette = Image.new(\"RGBA\", (16,8), \"black\")\n",
    "for x in range(16):\n",
    "    for y in range(8):\n",
    "        index = y * 16 + x\n",
    "        r,g,b = palette_colors[index]\n",
    "        if x == 0:\n",
    "            a = 0\n",
    "        else:\n",
    "            a = 255\n",
    "        palette.putpixel((x,y), (r,g,b,a))\n",
    "palette.save(\"palette.png\")"
   ]
  },
  {
   "cell_type": "markdown",
   "metadata": {},
   "source": [
    "## Subtile Sheet"
   ]
  },
  {
   "cell_type": "code",
   "execution_count": 188,
   "metadata": {},
   "outputs": [
    {
     "data": {
      "text/plain": [
       "0x1d4629"
      ]
     },
     "execution_count": 188,
     "metadata": {},
     "output_type": "execute_result"
    }
   ],
   "source": [
    "uc_subtile_snes = 0xbac629\n",
    "#uc_subtile_snes = 0xbaf911\n",
    "#uc_subtile_snes = 0xbbae9e\n",
    "uc_subtile_addr = Address(0)\n",
    "uc_subtile_addr.from_snes(uc_subtile_snes)\n",
    "uc_subtile_addr"
   ]
  },
  {
   "cell_type": "code",
   "execution_count": 189,
   "metadata": {
    "scrolled": true
   },
   "outputs": [
    {
     "data": {
      "text/plain": [
       "576.0"
      ]
     },
     "execution_count": 189,
     "metadata": {},
     "output_type": "execute_result"
    }
   ],
   "source": [
    "compressed_uc_subtiles = rom_m.read_from_clean(uc_subtile_addr, 16000)\n",
    "uc_subtiles = decompress.decompress(compressed_uc_subtiles)\n",
    "len(uc_subtiles) / 32"
   ]
  },
  {
   "cell_type": "code",
   "execution_count": 190,
   "metadata": {
    "scrolled": true
   },
   "outputs": [],
   "source": [
    "subtiles_bytes = rom_m.read_compressed_list(uc_subtile_addr, 576, 32)"
   ]
  },
  {
   "cell_type": "code",
   "execution_count": 193,
   "metadata": {},
   "outputs": [],
   "source": [
    "def get_pixel_color_index(tile, x, y, bpp=4):\n",
    "    palette_index = 0\n",
    "    for i in range(bpp // 2):\n",
    "        for j in range(2):\n",
    "            palette_index |= (tile[y * 2 + i * 0x10 + j] >> 7 - x & 1) << i * 2 + j\n",
    "    return palette_index"
   ]
  },
  {
   "cell_type": "code",
   "execution_count": 194,
   "metadata": {},
   "outputs": [],
   "source": [
    "subtiles = Image.new(\"RGBA\", (128, 288), \"black\")\n",
    "for index, subtile in enumerate(subtiles_bytes):\n",
    "    big_x = index % 16\n",
    "    big_y = index // 16\n",
    "    for x in range(8):\n",
    "        for y in range(8):\n",
    "            palette_index = get_pixel_color_index(subtile, x, y)\n",
    "            palette_color = palette.getpixel((palette_index, 0))\n",
    "            subtiles.putpixel((big_x * 8 + x, big_y * 8 + y), palette_color)\n",
    "subtiles.save(\"subtiles.png\")"
   ]
  },
  {
   "cell_type": "markdown",
   "metadata": {},
   "source": [
    "## Tile Table"
   ]
  },
  {
   "cell_type": "code",
   "execution_count": null,
   "metadata": {},
   "outputs": [],
   "source": []
  }
 ],
 "metadata": {
  "kernelspec": {
   "display_name": "Python 3",
   "language": "python",
   "name": "python3"
  },
  "language_info": {
   "codemirror_mode": {
    "name": "ipython",
    "version": 3
   },
   "file_extension": ".py",
   "mimetype": "text/x-python",
   "name": "python",
   "nbconvert_exporter": "python",
   "pygments_lexer": "ipython3",
   "version": "3.6.5"
  }
 },
 "nbformat": 4,
 "nbformat_minor": 2
}
