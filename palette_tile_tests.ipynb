{
 "cells": [
  {
   "cell_type": "code",
   "execution_count": 1,
   "metadata": {},
   "outputs": [],
   "source": [
    "%load_ext autoreload\n",
    "%autoreload 2"
   ]
  },
  {
   "cell_type": "code",
   "execution_count": 2,
   "metadata": {},
   "outputs": [],
   "source": [
    "from rom_tools import rom_manager\n",
    "from rom_tools.address import *\n",
    "from rom_tools import byte_ops\n",
    "from rom_tools.compress import decompress"
   ]
  },
  {
   "cell_type": "code",
   "execution_count": 3,
   "metadata": {},
   "outputs": [],
   "source": [
    "from PIL import Image\n",
    "from PIL import ImageOps"
   ]
  },
  {
   "cell_type": "code",
   "execution_count": 4,
   "metadata": {},
   "outputs": [],
   "source": [
    "rom_m = rom_manager.RomManager(\"../sm_guinea_pig.smc\", \"../sm_newlevel.smc\")"
   ]
  },
  {
   "cell_type": "markdown",
   "metadata": {},
   "source": [
    "## Palette"
   ]
  },
  {
   "cell_type": "code",
   "execution_count": 5,
   "metadata": {},
   "outputs": [
    {
     "data": {
      "text/plain": [
       "0x212d7c"
      ]
     },
     "execution_count": 5,
     "metadata": {},
     "output_type": "execute_result"
    }
   ],
   "source": [
    "# ucp - Upper Crateria Palette\n",
    "ucp_addr = Address(0xc2ad7c, mode=\"snes\")\n",
    "ucp_addr"
   ]
  },
  {
   "cell_type": "code",
   "execution_count": 6,
   "metadata": {},
   "outputs": [
    {
     "data": {
      "text/plain": [
       "256"
      ]
     },
     "execution_count": 6,
     "metadata": {},
     "output_type": "execute_result"
    }
   ],
   "source": [
    "compressed_ucp = rom_m.read_from_clean(ucp_addr, 1000)\n",
    "ucp = decompress.decompress(compressed_ucp)\n",
    "len(ucp)"
   ]
  },
  {
   "cell_type": "code",
   "execution_count": 7,
   "metadata": {},
   "outputs": [],
   "source": [
    "# 15 bit BGR, highest bit unused\n",
    "def get_rgb(color):\n",
    "    r_mask = 0b11111\n",
    "    g_mask = r_mask << 5\n",
    "    b_mask = r_mask << 10\n",
    "    # Mask out the correct 5-bit values\n",
    "    r5 = color & r_mask\n",
    "    g5 = (color & g_mask) >> 5\n",
    "    b5 = (color & b_mask) >> 10\n",
    "    # Upscale them to 8-bit\n",
    "    r8 = r5 << 3\n",
    "    g8 = g5 << 3\n",
    "    b8 = b5 << 3\n",
    "    return (r8, g8, b8)\n",
    "    "
   ]
  },
  {
   "cell_type": "code",
   "execution_count": 8,
   "metadata": {},
   "outputs": [
    {
     "data": {
      "text/plain": [
       "(168, 120, 184)"
      ]
     },
     "execution_count": 8,
     "metadata": {},
     "output_type": "execute_result"
    }
   ],
   "source": [
    "i = int.from_bytes(ucp[8:10], byteorder='little')\n",
    "get_rgb(i)"
   ]
  },
  {
   "cell_type": "code",
   "execution_count": 9,
   "metadata": {},
   "outputs": [],
   "source": [
    "palette_bytes = rom_m.read_compressed_list(ucp_addr, 2, 128)\n",
    "palette_colors = list(map(lambda x: get_rgb(int.from_bytes(x, byteorder='little')), palette_bytes))"
   ]
  },
  {
   "cell_type": "code",
   "execution_count": 10,
   "metadata": {},
   "outputs": [],
   "source": [
    "palette = Image.new(\"RGBA\", (16,8), \"black\")\n",
    "for x in range(16):\n",
    "    for y in range(8):\n",
    "        index = y * 16 + x\n",
    "        r,g,b = palette_colors[index]\n",
    "        if x == 0:\n",
    "            a = 0\n",
    "        else:\n",
    "            a = 255\n",
    "        palette.putpixel((x,y), (r,g,b,a))\n",
    "palette.save(\"palette.png\")"
   ]
  },
  {
   "cell_type": "markdown",
   "metadata": {},
   "source": [
    "## Subtile Sheet"
   ]
  },
  {
   "cell_type": "code",
   "execution_count": 2,
   "metadata": {},
   "outputs": [
    {
     "ename": "NameError",
     "evalue": "name 'Address' is not defined",
     "output_type": "error",
     "traceback": [
      "\u001b[0;31m---------------------------------------------------------------------------\u001b[0m",
      "\u001b[0;31mNameError\u001b[0m                                 Traceback (most recent call last)",
      "\u001b[0;32m<ipython-input-2-be94b70bd5e7>\u001b[0m in \u001b[0;36m<module>\u001b[0;34m()\u001b[0m\n\u001b[0;32m----> 1\u001b[0;31m \u001b[0muc_subtile_addr\u001b[0m \u001b[0;34m=\u001b[0m \u001b[0mAddress\u001b[0m\u001b[0;34m(\u001b[0m\u001b[0;36m0xbac629\u001b[0m\u001b[0;34m,\u001b[0m \u001b[0mmode\u001b[0m\u001b[0;34m=\u001b[0m\u001b[0;34m\"snes\"\u001b[0m\u001b[0;34m)\u001b[0m\u001b[0;34m\u001b[0m\u001b[0;34m\u001b[0m\u001b[0m\n\u001b[0m\u001b[1;32m      2\u001b[0m \u001b[0muc_subtile_addr\u001b[0m\u001b[0;34m\u001b[0m\u001b[0;34m\u001b[0m\u001b[0m\n",
      "\u001b[0;31mNameError\u001b[0m: name 'Address' is not defined"
     ]
    }
   ],
   "source": [
    "uc_subtile_addr = Address(0xbac629, mode=\"snes\")\n",
    "uc_subtile_addr"
   ]
  },
  {
   "cell_type": "code",
   "execution_count": 12,
   "metadata": {
    "scrolled": true
   },
   "outputs": [
    {
     "data": {
      "text/plain": [
       "576.0"
      ]
     },
     "execution_count": 12,
     "metadata": {},
     "output_type": "execute_result"
    }
   ],
   "source": [
    "compressed_uc_subtiles = rom_m.read_from_clean(uc_subtile_addr, 16000)\n",
    "uc_subtiles = decompress.decompress(compressed_uc_subtiles)\n",
    "len(uc_subtiles) / 32"
   ]
  },
  {
   "cell_type": "code",
   "execution_count": 13,
   "metadata": {
    "scrolled": true
   },
   "outputs": [],
   "source": [
    "uc_subtiles_bytes = rom_m.read_compressed_list(uc_subtile_addr, 32, 576)"
   ]
  },
  {
   "cell_type": "code",
   "execution_count": 14,
   "metadata": {},
   "outputs": [],
   "source": [
    "def get_pixel_color_index(tile, x, y, bpp=4):\n",
    "    palette_index = 0\n",
    "    for i in range(bpp // 2):\n",
    "        for j in range(2):\n",
    "            palette_index |= (tile[y * 2 + i * 0x10 + j] >> 7 - x & 1) << i * 2 + j\n",
    "    return palette_index"
   ]
  },
  {
   "cell_type": "code",
   "execution_count": 15,
   "metadata": {},
   "outputs": [],
   "source": [
    "def build_subtile(subtile_bytes, palette, palette_index_y):\n",
    "    subtile = Image.new(\"RGBA\", (8,8), \"black\")\n",
    "    for x in range(8):\n",
    "        for y in range(8):\n",
    "            palette_index_x = get_pixel_color_index(subtile_bytes, x, y)\n",
    "            palette_color = palette.getpixel((palette_index_x, palette_index_y))\n",
    "            subtile.putpixel((x, y), palette_color)\n",
    "    return subtile\n",
    "\n",
    "# Arrange a list of images into one big image\n",
    "def tiled_image(images, width, height):\n",
    "    assert width * height == len(images)\n",
    "    i = images[0]\n",
    "    i_width = i.width\n",
    "    i_height = i.height\n",
    "    out = Image.new(\"RGBA\", (width * i_width, height * i_height), \"black\")\n",
    "    for index, image in enumerate(images):\n",
    "        x = index % width\n",
    "        y = index // width\n",
    "        out.paste(image, (x * i_width, y * i_height))\n",
    "    return out\n",
    "\n",
    "def save_subtile_image(filename, subtiles, width, height, palette_y=0):\n",
    "    subtile_images = [build_subtile(x, palette, palette_y) for x in subtiles]\n",
    "    subtile_image = tiled_image(subtile_images, width, height)\n",
    "    subtile_image.save(filename)"
   ]
  },
  {
   "cell_type": "code",
   "execution_count": 16,
   "metadata": {},
   "outputs": [],
   "source": [
    "save_subtile_image(\"uc_subtiles.png\", uc_subtiles_bytes, 16, 36)"
   ]
  },
  {
   "cell_type": "markdown",
   "metadata": {},
   "source": [
    "## CRE"
   ]
  },
  {
   "cell_type": "code",
   "execution_count": 17,
   "metadata": {},
   "outputs": [
    {
     "data": {
      "text/plain": [
       "0x1c8000"
      ]
     },
     "execution_count": 17,
     "metadata": {},
     "output_type": "execute_result"
    }
   ],
   "source": [
    "cre_tile_snes = Address(0xb98000, mode=\"snes\")\n",
    "cre_tile_addr"
   ]
  },
  {
   "cell_type": "code",
   "execution_count": 18,
   "metadata": {},
   "outputs": [
    {
     "data": {
      "text/plain": [
       "384.0"
      ]
     },
     "execution_count": 18,
     "metadata": {},
     "output_type": "execute_result"
    }
   ],
   "source": [
    "compressed_cre_subtiles = rom_m.read_from_clean(cre_tile_addr, 10000)\n",
    "cre_subtiles = decompress.decompress(compressed_cre_subtiles)\n",
    "len(cre_subtiles) / 32\n",
    "# 384 cre subtiles"
   ]
  },
  {
   "cell_type": "code",
   "execution_count": 19,
   "metadata": {},
   "outputs": [],
   "source": [
    "cre_subtiles_bytes = rom_m.read_compressed_list(cre_tile_addr, 32, 384)"
   ]
  },
  {
   "cell_type": "code",
   "execution_count": 20,
   "metadata": {},
   "outputs": [],
   "source": [
    "save_subtile_image(\"cre_subtiles.png\", cre_subtiles_bytes, 16, 24)"
   ]
  },
  {
   "cell_type": "markdown",
   "metadata": {},
   "source": [
    "## Tile Table"
   ]
  },
  {
   "cell_type": "code",
   "execution_count": 21,
   "metadata": {},
   "outputs": [],
   "source": [
    "# PJBoy said that the tilesheet is 0x280 tilesheet-specific tiles followed by 0x180 CRE tiles for a total of\n",
    "# 0x400 = 1024 tiles\n",
    "# SCE uses 0x280 tiles before starting to overwrite the CRE, but isn't required to use all of them\n",
    "def get_tile_bytes(index, sce_tilesheet, cre_tilesheet):\n",
    "    # Index is 10 bytes\n",
    "    assert index >= 0 and index < 0x400, hex(index)\n",
    "    # SCE takes priority over CRE since it is copied on top of the CRE if it is larger than the normal 0x280 bytes\n",
    "    if index < len(sce_tilesheet):\n",
    "        return sce_tilesheet[index]\n",
    "    # Otherwise it can index into the CRE which is always at 0x280 and above\n",
    "    elif index >= 0x280:\n",
    "        return cre_tilesheet[index - 0x280]\n",
    "    # Something is going wrong if it is indexing a value between the end of the SCE and before the\n",
    "    # beginning of the CRE\n",
    "    else:\n",
    "        assert False, hex(index)\n",
    "        \n",
    "def apply_flips(image, flips):\n",
    "    # y\n",
    "    if flips[0]:\n",
    "        image = ImageOps.flip(image)\n",
    "    # x\n",
    "    if flips[1]:\n",
    "        image = ImageOps.mirror(image)\n",
    "    return image\n",
    "\n",
    "# Two bytes\n",
    "# YXLP PPTT TTTT TTTT    \n",
    "def get_subtile_def(subtile_bytes):\n",
    "    q = int.from_bytes(subtile_bytes, byteorder='little')\n",
    "    y_flip = (q >> 15) & 0b1\n",
    "    x_flip = (q >> 14) & 0b1\n",
    "    layer_priority = (q >> 13) & 0b1\n",
    "    palette_index_y = (q >> 10) & 0b111\n",
    "    tile_index = q & 0b0000001111111111\n",
    "    return (y_flip, x_flip, layer_priority, palette_index_y, tile_index)\n",
    "\n",
    "def get_subtile_image(subtile_def, sce_tilesheet, cre_tilesheet, palette):\n",
    "    #print(subtile_def)\n",
    "    y_flip, x_flip, layer_priority, palette_index_y, tile_index = subtile_def\n",
    "    tile_bytes = get_tile_bytes(tile_index, sce_tilesheet, cre_tilesheet)\n",
    "    subtile_image = build_subtile(tile_bytes, palette, palette_index_y)\n",
    "    subtile_image = apply_flips(subtile_image, (y_flip, x_flip))\n",
    "    return subtile_image\n",
    "    \n",
    "def get_tile_image(tile_bytes, sce_tilesheet, cre_tilesheet, palette):\n",
    "    assert len(tile_bytes) == 8\n",
    "    subtile_defs = [tile_bytes[i:i+2] for i in range(0,8,2)]\n",
    "    #print(subtile_defs)\n",
    "    subtile_images = list(map(lambda x: get_subtile_image(get_subtile_def(x),\n",
    "                                                    sce_tilesheet, cre_tilesheet, palette), subtile_defs))\n",
    "    tile_image = tiled_image(subtile_images, 2, 2)\n",
    "    return tile_image\n",
    "\n",
    "def save_tile_table_image(filename, tile_table, width, height, sce_subtiles, cre_subtiles, palette):\n",
    "    tile_images = [get_tile_image(i, sce_subtiles, cre_subtiles, palette) for i in tile_table]\n",
    "    # No, the irony in this naming scheme is not lost on me\n",
    "    out = tiled_image(tile_images, width, height)\n",
    "    out.save(filename)\n",
    "    \n",
    "def tile_images(tile_table, sce_subtiles, cre_subtiles, palette):\n",
    "    return [get_tile_image(i, sce_subtiles, cre_subtiles, palette) for i in tile_table]\n"
   ]
  },
  {
   "cell_type": "code",
   "execution_count": 22,
   "metadata": {},
   "outputs": [],
   "source": [
    "cre_tile_table_snes = 0xb9a09d\n",
    "cre_tile_table_addr = Address(0)\n",
    "cre_tile_table_addr.from_snes(cre_tile_table_snes)"
   ]
  },
  {
   "cell_type": "code",
   "execution_count": 23,
   "metadata": {},
   "outputs": [
    {
     "data": {
      "text/plain": [
       "256.0"
      ]
     },
     "execution_count": 23,
     "metadata": {},
     "output_type": "execute_result"
    }
   ],
   "source": [
    "compressed_cre_tile_table = rom_m.read_from_clean(cre_tile_table_addr, 6000)\n",
    "cre_tile_table = decompress.decompress(compressed_cre_tile_table)\n",
    "len(cre_tile_table) / 8\n",
    "# 256 tiles of CRE"
   ]
  },
  {
   "cell_type": "code",
   "execution_count": 24,
   "metadata": {},
   "outputs": [],
   "source": [
    "cre_tile_table_bytes = rom_m.read_compressed_list(cre_tile_table_addr, 8, 256)"
   ]
  },
  {
   "cell_type": "code",
   "execution_count": 25,
   "metadata": {},
   "outputs": [],
   "source": [
    "save_tile_table_image(\"cre_tile_table.png\", cre_tile_table_bytes, 32, 8, uc_subtiles_bytes, cre_subtiles_bytes, palette)"
   ]
  },
  {
   "cell_type": "code",
   "execution_count": 26,
   "metadata": {},
   "outputs": [],
   "source": [
    "uc_tile_table_snes = 0xc1b6f6\n",
    "uc_tile_table_addr = Address(0)\n",
    "uc_tile_table_addr.from_snes(uc_tile_table_snes)"
   ]
  },
  {
   "cell_type": "code",
   "execution_count": 27,
   "metadata": {},
   "outputs": [
    {
     "data": {
      "text/plain": [
       "768.0"
      ]
     },
     "execution_count": 27,
     "metadata": {},
     "output_type": "execute_result"
    }
   ],
   "source": [
    "compressed_uc_tile_table = rom_m.read_from_clean(uc_tile_table_addr, 6000)\n",
    "uc_tile_table = decompress.decompress(compressed_uc_tile_table)\n",
    "len(uc_tile_table) / 8\n",
    "# 768 tiles of SCE for a total of 1024 tiles (10 bits of address space in the level datas)"
   ]
  },
  {
   "cell_type": "code",
   "execution_count": 28,
   "metadata": {},
   "outputs": [],
   "source": [
    "uc_tile_table_bytes = rom_m.read_compressed_list(uc_tile_table_addr, 8, 768)"
   ]
  },
  {
   "cell_type": "code",
   "execution_count": 29,
   "metadata": {},
   "outputs": [],
   "source": [
    "save_tile_table_image(\"sce_tile_table.png\", uc_tile_table_bytes, 32, 24, uc_subtiles_bytes, cre_subtiles_bytes, palette)"
   ]
  },
  {
   "cell_type": "markdown",
   "metadata": {},
   "source": [
    "## Level Data"
   ]
  },
  {
   "cell_type": "code",
   "execution_count": 30,
   "metadata": {},
   "outputs": [],
   "source": [
    "# Now we will display room 0x792b3 with our newfound abilities\n",
    "room_header_addr = Address(0x792b3)\n",
    "room_header = rom_m.read_from_clean(room_header_addr, 74)"
   ]
  },
  {
   "cell_type": "code",
   "execution_count": 31,
   "metadata": {},
   "outputs": [],
   "source": [
    "# Find the level data\n",
    "leveldata_ptr_b = room_header[18:21]\n",
    "leveldata_ptr_snes = int.from_bytes(leveldata_ptr_b, byteorder='little')\n",
    "leveldata_addr = Address(0)\n",
    "leveldata_addr.from_snes(leveldata_ptr_snes)"
   ]
  },
  {
   "cell_type": "code",
   "execution_count": 32,
   "metadata": {},
   "outputs": [
    {
     "data": {
      "text/plain": [
       "3842"
      ]
     },
     "execution_count": 32,
     "metadata": {},
     "output_type": "execute_result"
    }
   ],
   "source": [
    "compressed_level_data = rom_m.read_from_clean(leveldata_addr, 2000)\n",
    "level_data = decompress.decompress(compressed_level_data)\n",
    "len(level_data)"
   ]
  },
  {
   "cell_type": "code",
   "execution_count": 33,
   "metadata": {},
   "outputs": [],
   "source": [
    "from world_rando import room_gen\n",
    "from world_rando import room_viz\n",
    "from world_rando.coord import *"
   ]
  },
  {
   "cell_type": "code",
   "execution_count": 34,
   "metadata": {},
   "outputs": [],
   "source": [
    "level = room_gen.level_from_bytes(level_data, Coord(80,16))"
   ]
  },
  {
   "cell_type": "code",
   "execution_count": 35,
   "metadata": {},
   "outputs": [
    {
     "data": {
      "image/png": "[encoded data removed]",
      "text/plain": [
       "<PIL.Image.Image image mode=RGBA size=1280x256 at 0x7FB31804A6D8>"
      ]
     },
     "execution_count": 35,
     "metadata": {},
     "output_type": "execute_result"
    }
   ],
   "source": [
    "room_viz.room_viz(level, \"test.png\", \"encoding/room_tiles\")"
   ]
  },
  {
   "cell_type": "code",
   "execution_count": 36,
   "metadata": {},
   "outputs": [],
   "source": [
    "def get_tile(index, sce_tile_table, cre_tile_table):\n",
    "    # Index is 10 bytes\n",
    "    assert index >= 0 and index < 0x400, hex(index)\n",
    "    # Index into the CRE\n",
    "    if index < 0x100:\n",
    "        return cre_tile_table[index]\n",
    "    else:\n",
    "        return sce_tile_table[index - 0x100]\n",
    "    \n",
    "def level_image(filename, level, sce_tile_table_images, cre_tile_table_images):\n",
    "    l_image = Image.new(\"RGBA\", (level.dimensions.x * 16, level.dimensions.y * 16), \"white\")\n",
    "    for c in level.itercoords():\n",
    "        tile = level[c]\n",
    "        tile_image = get_tile(tile.texture.index, sce_tile_table_images, cre_tile_table_images)\n",
    "        tile_image = apply_flips(tile_image, tile.texture.flips)\n",
    "        # Third argument is the alpha mask\n",
    "        l_image.paste(tile_image, (c.x * 16, c.y * 16), tile_image)\n",
    "    l_image.save(filename)\n",
    "    return l_image\n",
    "    "
   ]
  },
  {
   "cell_type": "code",
   "execution_count": 37,
   "metadata": {},
   "outputs": [],
   "source": [
    "sce_tiles = tile_images(uc_tile_table_bytes, uc_subtiles_bytes, cre_subtiles_bytes, palette)\n",
    "cre_tiles = tile_images(cre_tile_table_bytes, uc_subtiles_bytes, cre_subtiles_bytes, palette)"
   ]
  },
  {
   "cell_type": "code",
   "execution_count": 38,
   "metadata": {},
   "outputs": [
    {
     "data": {
      "image/png": "[encoded data removed]",
      "text/plain": [
       "<PIL.Image.Image image mode=RGBA size=1280x256 at 0x7FB31804A3C8>"
      ]
     },
     "execution_count": 38,
     "metadata": {},
     "output_type": "execute_result"
    }
   ],
   "source": [
    "level_image(\"test.png\", level, sce_tiles, cre_tiles)"
   ]
  },
  {
   "cell_type": "code",
   "execution_count": 39,
   "metadata": {},
   "outputs": [],
   "source": [
    "#TODO: use y-flip and x-flip instead of v-flip and h-flip"
   ]
  }
 ],
 "metadata": {
  "kernelspec": {
   "display_name": "Python 3",
   "language": "python",
   "name": "python3"
  },
  "language_info": {
   "codemirror_mode": {
    "name": "ipython",
    "version": 3
   },
   "file_extension": ".py",
   "mimetype": "text/x-python",
   "name": "python",
   "nbconvert_exporter": "python",
   "pygments_lexer": "ipython3",
   "version": "3.6.9"
  }
 },
 "nbformat": 4,
 "nbformat_minor": 2
}
