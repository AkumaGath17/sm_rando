{
 "cells": [
  {
   "cell_type": "code",
   "execution_count": 2,
   "metadata": {},
   "outputs": [],
   "source": [
    "%load_ext autoreload\n",
    "%autoreload 2"
   ]
  },
  {
   "cell_type": "code",
   "execution_count": 3,
   "metadata": {},
   "outputs": [],
   "source": [
    "from rom_tools import rom_manager\n",
    "from rom_tools.address import *\n",
    "from rom_tools import byte_ops\n",
    "from rom_tools.compress import decompress"
   ]
  },
  {
   "cell_type": "code",
   "execution_count": 58,
   "metadata": {},
   "outputs": [],
   "source": [
    "from PIL import Image\n",
    "from PIL import ImageOps"
   ]
  },
  {
   "cell_type": "code",
   "execution_count": 5,
   "metadata": {},
   "outputs": [],
   "source": [
    "rom_m = rom_manager.RomManager(\"../sm_guinea_pig.smc\", \"../sm_newlevel.smc\")"
   ]
  },
  {
   "cell_type": "markdown",
   "metadata": {},
   "source": [
    "## Palette"
   ]
  },
  {
   "cell_type": "code",
   "execution_count": 6,
   "metadata": {},
   "outputs": [
    {
     "data": {
      "text/plain": [
       "0x212d7c"
      ]
     },
     "execution_count": 6,
     "metadata": {},
     "output_type": "execute_result"
    }
   ],
   "source": [
    "# ucp - Upper Crateria Palette\n",
    "ucp_snes = 0xc2ad7c\n",
    "ucp_addr = Address(0)\n",
    "ucp_addr.from_snes(0xc2ad7c)\n",
    "ucp_addr"
   ]
  },
  {
   "cell_type": "code",
   "execution_count": 7,
   "metadata": {},
   "outputs": [
    {
     "data": {
      "text/plain": [
       "256"
      ]
     },
     "execution_count": 7,
     "metadata": {},
     "output_type": "execute_result"
    }
   ],
   "source": [
    "compressed_ucp = rom_m.read_from_clean(ucp_addr, 1000)\n",
    "ucp = decompress.decompress(compressed_ucp)\n",
    "len(ucp)"
   ]
  },
  {
   "cell_type": "code",
   "execution_count": 8,
   "metadata": {},
   "outputs": [],
   "source": [
    "# 15 bit BGR, highest bit unused\n",
    "def get_rgb(color):\n",
    "    r_mask = 0b11111\n",
    "    g_mask = r_mask << 5\n",
    "    b_mask = r_mask << 10\n",
    "    # Mask out the correct 5-bit values\n",
    "    r5 = color & r_mask\n",
    "    g5 = (color & g_mask) >> 5\n",
    "    b5 = (color & b_mask) >> 10\n",
    "    # Upscale them to 8-bit\n",
    "    r8 = r5 << 3\n",
    "    g8 = g5 << 3\n",
    "    b8 = b5 << 3\n",
    "    return (r8, g8, b8)\n",
    "    "
   ]
  },
  {
   "cell_type": "code",
   "execution_count": 9,
   "metadata": {},
   "outputs": [
    {
     "data": {
      "text/plain": [
       "(168, 120, 184)"
      ]
     },
     "execution_count": 9,
     "metadata": {},
     "output_type": "execute_result"
    }
   ],
   "source": [
    "i = int.from_bytes(ucp[8:10], byteorder='little')\n",
    "get_rgb(i)"
   ]
  },
  {
   "cell_type": "code",
   "execution_count": 10,
   "metadata": {},
   "outputs": [],
   "source": [
    "palette_bytes = rom_m.read_compressed_list(ucp_addr, 128, 2)\n",
    "palette_colors = list(map(lambda x: get_rgb(int.from_bytes(x, byteorder='little')), palette_bytes))"
   ]
  },
  {
   "cell_type": "code",
   "execution_count": 11,
   "metadata": {},
   "outputs": [],
   "source": [
    "palette = Image.new(\"RGBA\", (16,8), \"black\")\n",
    "for x in range(16):\n",
    "    for y in range(8):\n",
    "        index = y * 16 + x\n",
    "        r,g,b = palette_colors[index]\n",
    "        if x == 0:\n",
    "            a = 0\n",
    "        else:\n",
    "            a = 255\n",
    "        palette.putpixel((x,y), (r,g,b,a))\n",
    "palette.save(\"palette.png\")"
   ]
  },
  {
   "cell_type": "markdown",
   "metadata": {},
   "source": [
    "## Subtile Sheet"
   ]
  },
  {
   "cell_type": "code",
   "execution_count": 24,
   "metadata": {},
   "outputs": [
    {
     "data": {
      "text/plain": [
       "0x1dae9e"
      ]
     },
     "execution_count": 24,
     "metadata": {},
     "output_type": "execute_result"
    }
   ],
   "source": [
    "#uc_subtile_snes = 0xbac629\n",
    "#uc_subtile_snes = 0xbaf911\n",
    "#uc_subtile_snes = 0xbbae9e\n",
    "uc_subtile_addr = Address(0)\n",
    "uc_subtile_addr.from_snes(uc_subtile_snes)\n",
    "uc_subtile_addr"
   ]
  },
  {
   "cell_type": "code",
   "execution_count": 23,
   "metadata": {
    "scrolled": true
   },
   "outputs": [
    {
     "data": {
      "text/plain": [
       "576.0"
      ]
     },
     "execution_count": 23,
     "metadata": {},
     "output_type": "execute_result"
    }
   ],
   "source": [
    "compressed_uc_subtiles = rom_m.read_from_clean(uc_subtile_addr, 16000)\n",
    "uc_subtiles = decompress.decompress(compressed_uc_subtiles)\n",
    "len(uc_subtiles) / 32"
   ]
  },
  {
   "cell_type": "code",
   "execution_count": 47,
   "metadata": {
    "scrolled": true
   },
   "outputs": [],
   "source": [
    "uc_subtiles_bytes = rom_m.read_compressed_list(uc_subtile_addr, 576, 32)"
   ]
  },
  {
   "cell_type": "code",
   "execution_count": 48,
   "metadata": {},
   "outputs": [],
   "source": [
    "def get_pixel_color_index(tile, x, y, bpp=4):\n",
    "    palette_index = 0\n",
    "    for i in range(bpp // 2):\n",
    "        for j in range(2):\n",
    "            palette_index |= (tile[y * 2 + i * 0x10 + j] >> 7 - x & 1) << i * 2 + j\n",
    "    return palette_index"
   ]
  },
  {
   "cell_type": "code",
   "execution_count": 51,
   "metadata": {},
   "outputs": [],
   "source": [
    "def mk_subtile_image(filename, width, height, subtile_bytes):\n",
    "    subtiles = Image.new(\"RGBA\", (width * 8, height * 8), \"black\")\n",
    "    assert width * height == len(subtile_bytes)\n",
    "    for index, subtile in enumerate(subtile_bytes):\n",
    "        big_x = index % width\n",
    "        big_y = index // width\n",
    "        #print(index, big_x, big_y)\n",
    "        for x in range(8):\n",
    "            for y in range(8):\n",
    "                palette_index = get_pixel_color_index(subtile, x, y)\n",
    "                palette_color = palette.getpixel((palette_index, 0))\n",
    "                subtiles.putpixel((big_x * 8 + x, big_y * 8 + y), palette_color)\n",
    "    subtiles.save(filename)\n",
    "    \n",
    "def build_subtile(subtile_bytes, palette, palette_index_y):\n",
    "    subtile = Image.new(\"RGBA\", (8,8), \"black\")\n",
    "    for x in range(8):\n",
    "        for y in range(8):\n",
    "            palette_index_x = get_pixel_color_index(subtile, x, y)\n",
    "            palette_color = palette.getpixel((palette_index_x, palette_index_y))\n",
    "            subtiles.putpixel((x, y), palette_color)\n",
    "    return subtile\n",
    "            "
   ]
  },
  {
   "cell_type": "code",
   "execution_count": 52,
   "metadata": {},
   "outputs": [],
   "source": [
    "mk_subtile_image(\"subtiles.png\", 16, 36, uc_subtiles_bytes)"
   ]
  },
  {
   "cell_type": "markdown",
   "metadata": {},
   "source": [
    "## CRE"
   ]
  },
  {
   "cell_type": "code",
   "execution_count": 53,
   "metadata": {},
   "outputs": [
    {
     "data": {
      "text/plain": [
       "0x1c8000"
      ]
     },
     "execution_count": 53,
     "metadata": {},
     "output_type": "execute_result"
    }
   ],
   "source": [
    "cre_tile_snes = 0xb98000\n",
    "cre_tile_addr = Address(0)\n",
    "cre_tile_addr.from_snes(cre_tile_snes)\n",
    "cre_tile_addr"
   ]
  },
  {
   "cell_type": "code",
   "execution_count": 54,
   "metadata": {},
   "outputs": [
    {
     "data": {
      "text/plain": [
       "384.0"
      ]
     },
     "execution_count": 54,
     "metadata": {},
     "output_type": "execute_result"
    }
   ],
   "source": [
    "compressed_cre_subtiles = rom_m.read_from_clean(cre_tile_addr, 10000)\n",
    "cre_subtiles = decompress.decompress(compressed_cre_subtiles)\n",
    "len(cre_subtiles) / 32\n",
    "# 384 cre subtiles"
   ]
  },
  {
   "cell_type": "code",
   "execution_count": 55,
   "metadata": {},
   "outputs": [],
   "source": [
    "cre_subtiles_bytes = rom_m.read_compressed_list(cre_tile_addr, 384, 32)"
   ]
  },
  {
   "cell_type": "code",
   "execution_count": 57,
   "metadata": {},
   "outputs": [],
   "source": [
    "mk_subtile_image(\"cre_subtiles.png\", 16, 24, cre_subtiles_bytes)"
   ]
  },
  {
   "cell_type": "markdown",
   "metadata": {},
   "source": [
    "## Tile Table"
   ]
  },
  {
   "cell_type": "code",
   "execution_count": 59,
   "metadata": {},
   "outputs": [],
   "source": [
    "# PJBoy said that the tilesheet is 0x280 tilesheet-specific tiles followed by 0x180 CRE tiles for a total of\n",
    "# 0x400 = 1024 tiles\n",
    "# SCE uses 0x280 tiles before starting to overwrite the CRE, but isn't required to use all of them\n",
    "def get_tile_bytes(index, sce_tilesheet, cre_tilesheet):\n",
    "    # Make sure the index is in the right range\n",
    "    assert index > 0 and index < 0x400\n",
    "    # SCE takes priority over CRE since it is copied on top of the CRE if it is larger than the normal 0x280 bytes\n",
    "    if index < len(sce_tilesheet):\n",
    "        return sce_tilesheet[index]\n",
    "    # Otherwise it can index into the CRE which is always at 0x280 and above\n",
    "    elif index > 0x280:\n",
    "        return cre_tilesheet[index - 0x280]\n",
    "    # Something is going wrong if it is indexing a value between the end of the SCE and before the\n",
    "    # beginning of the CRE\n",
    "    else:\n",
    "        assert False\n",
    "\n",
    "# YXLP PPTT TTTT TTTT    \n",
    "def get_subtile_def(quarter_bytes):\n",
    "    q = int.from_bytes(quarter_bytes, byteorder='little')\n",
    "    y_flip = (q >> 15) & 0b1\n",
    "    x_flip = (q >> 14) & 0b1\n",
    "    layer_priority = (q >> 13) & 0b1\n",
    "    palette_index_y = (q >> 10) & 0b111\n",
    "    tile_index = q & 0b0000001111111111\n",
    "    return (y_flip, x_flip, layer_priority, palette_index_y, tile_index)\n",
    "\n",
    "def get_subtile_img(quarter_def, sce_tilesheet, cre_tilesheet, palette):\n",
    "    y_flip, x_flip, layer_priority, palette_index_y, tile_index = quarter_def\n",
    "    tile_bytes = get_tile_bytes(tile_index, sce_tilesheet, cre_tilesheet)\n",
    "    subtile_img = build_subtile(tile_bytes, palette, palette_index_y)\n",
    "    if y_flip:\n",
    "        subtile_img = ImageOps.flip(subtile_img)\n",
    "    if x_flip:\n",
    "        subtile_img = ImageOps.mirror(subtile_img)\n",
    "    return subtile_img\n",
    "    \n",
    "def get_tile_img(tile_bytes, sce_tilesheet, cre_tilesheet, palette):\n",
    "    assert len(tile_bytes) == 16\n",
    "    subtile_defs = [tile_bytes[i:i+4] for i in range(0,16,4)]\n",
    "    subtile_imgs = map(lambda x: get_subtile_img(get_subtile_def(x),\n",
    "                                                    sce_tilesheet, cre_tilesheet, palette), subtile_defs)\n",
    "    tile_img = Image(\"RGBA\", (16,16), \"black\")\n",
    "    for index, subtile_img in subtile_imgs:\n",
    "        x = index % 2\n",
    "        y = index // 2\n",
    "        tile_img.paste(subtile_img, (x,y))\n",
    "    return tile_img\n"
   ]
  },
  {
   "cell_type": "code",
   "execution_count": null,
   "metadata": {},
   "outputs": [],
   "source": []
  }
 ],
 "metadata": {
  "kernelspec": {
   "display_name": "Python 3",
   "language": "python",
   "name": "python3"
  },
  "language_info": {
   "codemirror_mode": {
    "name": "ipython",
    "version": 3
   },
   "file_extension": ".py",
   "mimetype": "text/x-python",
   "name": "python",
   "nbconvert_exporter": "python",
   "pygments_lexer": "ipython3",
   "version": "3.6.5"
  }
 },
 "nbformat": 4,
 "nbformat_minor": 2
}
