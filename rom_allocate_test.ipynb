{
 "cells": [
  {
   "cell_type": "code",
   "execution_count": 1,
   "metadata": {},
   "outputs": [],
   "source": [
    "%load_ext autoreload\n",
    "%autoreload 2"
   ]
  },
  {
   "cell_type": "code",
   "execution_count": 2,
   "metadata": {},
   "outputs": [],
   "source": [
    "from rom_tools import rom_manager\n",
    "from rom_tools.address import *\n",
    "from rom_tools import byte_ops\n",
    "from rom_tools.rom_data_structures import *\n",
    "from rom_tools.compress import decompress\n",
    "from rom_tools.compress import compress"
   ]
  },
  {
   "cell_type": "code",
   "execution_count": 3,
   "metadata": {},
   "outputs": [
    {
     "name": "stdout",
     "output_type": "stream",
     "text": [
      "Something is wrong with this rom\n"
     ]
    }
   ],
   "source": [
    "# Load the ROM\n",
    "rom_m = rom_manager.RomManager(\"../sm_guinea_pig.smc\", \"../sm_newlevel.smc\")"
   ]
  },
  {
   "cell_type": "code",
   "execution_count": 4,
   "metadata": {},
   "outputs": [],
   "source": [
    "# set up default env\n",
    "env = {\n",
    "    \"default_leveldata\" : Address(0x2156e8),\n",
    "    \"default_background\" : Address(0x07b899),\n",
    "    \"default_fx\" : Address(0x0180e0),\n",
    "    \"default_scrolls\" : 0,\n",
    "    \"default_plms\" : Address(0x078058),\n",
    "    \"default_enemies\" : Address(0x010847a),\n",
    "    \"default_enemy_set\" : Address(0x01a00a1),\n",
    "    \"default_main_asm\" : 0,\n",
    "    \"default_setup_asm\" : Address(0x791d3),\n",
    "    \"room_1_head\" : Address(0x0791f8),\n",
    "    \"room_2_head\" : Address(0x07965b)\n",
    "}"
   ]
  },
  {
   "cell_type": "code",
   "execution_count": 5,
   "metadata": {},
   "outputs": [
    {
     "data": {
      "text/plain": [
       "(b'\\x00\\x00\\x00\\x04\\x01&\\x00\\x02\\x00\\x80\\x97\\xb9',\n",
       " [futurewrite(future(room_1_head), future(room_0_door_0))])"
      ]
     },
     "execution_count": 5,
     "metadata": {},
     "output_type": "execute_result"
    }
   ],
   "source": [
    "door0 = Door(0, 0, 1, 0x00, (True, \"R\"), (0x01, 0x26), (0x00, 0x02), 0x8000, 0xb997)\n",
    "door0.to_bytes()"
   ]
  },
  {
   "cell_type": "code",
   "execution_count": 6,
   "metadata": {},
   "outputs": [],
   "source": [
    "door1 = Door(1, 0, 2, 0x00, (True, \"L\"), (0x5e, 0x06), (0x05, 0x00), 0x8000, 0x0000)"
   ]
  },
  {
   "cell_type": "code",
   "execution_count": 7,
   "metadata": {},
   "outputs": [],
   "source": [
    "#door0.to_bytes()"
   ]
  },
  {
   "cell_type": "code",
   "execution_count": 8,
   "metadata": {},
   "outputs": [],
   "source": [
    "default_state = RoomState(0, 0, 0xe5e6, 0, \"default_leveldata\", 0x00, 0x0000,\n",
    "                         \"default_fx\", \"default_enemies\", \"default_enemy_set\", (0xc1, 0xc1),\n",
    "                         \"default_scrolls\", \"default_main_asm\", \"default_plms\", \"default_background\", \"default_setup_asm\")"
   ]
  },
  {
   "cell_type": "code",
   "execution_count": 9,
   "metadata": {},
   "outputs": [],
   "source": [
    "room0 = RoomHeader(0, 0x01, 0x00, (0x12, 0x02), (0x05, 0x01), 0x70, 0xa0, 0x00,\n",
    "                 [default_state], [], [], [], [], [], [], [], [], [door0, door1])"
   ]
  },
  {
   "cell_type": "code",
   "execution_count": 10,
   "metadata": {},
   "outputs": [
    {
     "name": "stdout",
     "output_type": "stream",
     "text": [
      "[futurewrite(future(room_1_head), future(room_0_door_0)), futurewrite(future(room_2_head), future(room_0_door_1))]\n"
     ]
    }
   ],
   "source": [
    "mdb = rom_m.memory.alloc_rooms([room0], env)"
   ]
  },
  {
   "cell_type": "code",
   "execution_count": 11,
   "metadata": {},
   "outputs": [
    {
     "data": {
      "text/plain": [
       "[0x7e99a]"
      ]
     },
     "execution_count": 11,
     "metadata": {},
     "output_type": "execute_result"
    }
   ],
   "source": [
    "mdb"
   ]
  },
  {
   "cell_type": "code",
   "execution_count": 12,
   "metadata": {},
   "outputs": [],
   "source": [
    "#rom_m.save_and_close()"
   ]
  },
  {
   "cell_type": "code",
   "execution_count": 13,
   "metadata": {
    "scrolled": false
   },
   "outputs": [
    {
     "name": "stdout",
     "output_type": "stream",
     "text": [
      "b'\\x01\\x00\\x12\\x02\\x05\\x01p\\xa0\\x00\\xf9\\x92\\xe6\\xe5\\xe8\\xd6\\xc2\\x00\\x00\\x00\\xe0\\x80z\\x84\\xa1\\x80\\xc1\\xc1\\x00\\x00\\x00\\x00\\x00\\x00X\\x80\\x99\\xb8\\xd3\\x91F\\x89R\\x89'\n",
      "43\n"
     ]
    }
   ],
   "source": [
    "# Read the old level header\n",
    "old = rom_m.read_from_new(Address(0x792b3), 74)\n",
    "oldh = old[:11]\n",
    "oldm = old[16:44]\n",
    "oldn = old[70:]\n",
    "old = oldh + oldm + oldn\n",
    "print(old)\n",
    "print(len(old))"
   ]
  },
  {
   "cell_type": "code",
   "execution_count": 14,
   "metadata": {},
   "outputs": [
    {
     "name": "stdout",
     "output_type": "stream",
     "text": [
      "b'\\x01\\x00\\x12\\x02\\x05\\x01p\\xa0\\x00\\xc1\\xe9\\xe6\\xe5\\xe8\\xd6\\xc2\\x00\\x00\\x00\\xe0\\x80z\\x84\\xa1\\x80\\xc1\\xc1\\x00\\x00\\x00\\x00\\x00\\x00X\\x80\\x99\\xb8\\xd3\\x91p\\xad|\\xad'\n",
      "43\n"
     ]
    }
   ],
   "source": [
    "# Read the new level header\n",
    "new = rom_m.read_from_new(Address(0x7e99a), 43)\n",
    "print(new)\n",
    "print(len(new))"
   ]
  },
  {
   "cell_type": "code",
   "execution_count": 15,
   "metadata": {},
   "outputs": [],
   "source": [
    "rom_m.save_and_close()"
   ]
  },
  {
   "cell_type": "code",
   "execution_count": null,
   "metadata": {},
   "outputs": [],
   "source": []
  },
  {
   "cell_type": "code",
   "execution_count": null,
   "metadata": {},
   "outputs": [],
   "source": []
  }
 ],
 "metadata": {
  "kernelspec": {
   "display_name": "Python3.9",
   "language": "python",
   "name": "python3"
  },
  "language_info": {
   "codemirror_mode": {
    "name": "ipython",
    "version": 3
   },
   "file_extension": ".py",
   "mimetype": "text/x-python",
   "name": "python",
   "nbconvert_exporter": "python",
   "pygments_lexer": "ipython3",
   "version": "3.9.2"
  }
 },
 "nbformat": 4,
 "nbformat_minor": 2
}
