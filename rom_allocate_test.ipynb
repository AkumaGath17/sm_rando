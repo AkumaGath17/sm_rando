{
 "cells": [
  {
   "cell_type": "code",
   "execution_count": 1,
   "metadata": {},
   "outputs": [],
   "source": [
    "%load_ext autoreload\n",
    "%autoreload 2"
   ]
  },
  {
   "cell_type": "code",
   "execution_count": 2,
   "metadata": {},
   "outputs": [],
   "source": [
    "from rom_tools import rom_manager\n",
    "from rom_tools.address import *\n",
    "from rom_tools import byte_ops\n",
    "from rom_tools.rom_data_structures import *\n",
    "from rom_tools.compress import decompress\n",
    "from rom_tools.compress import compress"
   ]
  },
  {
   "cell_type": "code",
   "execution_count": 3,
   "metadata": {},
   "outputs": [
    {
     "name": "stdout",
     "output_type": "stream",
     "text": [
      "Something is wrong with this rom\n"
     ]
    }
   ],
   "source": [
    "# Load the ROM\n",
    "rom_m = rom_manager.RomManager(\"../sm_guinea_pig.smc\", \"../sm_newlevel.smc\")"
   ]
  },
  {
   "cell_type": "code",
   "execution_count": 33,
   "metadata": {},
   "outputs": [],
   "source": [
    "# set up default env\n",
    "env = {\n",
    "    \"default_leveldata\" : Address(0x2156e8),\n",
    "    \"default_background\" : Address(0x07b899),\n",
    "    \"default_fx\" : Address(0x0180e0),\n",
    "    \"default_scrolls\" : Address(0), #TODO: this will do for now...\n",
    "    \"default_plms\" : Address(0x078058),\n",
    "    \"default_enemies\" : Address(0x010847a),\n",
    "    \"default_enemy_set\" : Address(0x01a00a1),\n",
    "    \"default_main_asm\" : Address(0),\n",
    "    \"default_setup_asm\" : Address(0x791d3),\n",
    "    \"room_1_head\" : Address(0x0791f8),\n",
    "    \"room_2_head\" : Address(0x07965b)\n",
    "}"
   ]
  },
  {
   "cell_type": "code",
   "execution_count": 34,
   "metadata": {},
   "outputs": [],
   "source": [
    "door0 = Door(0, 0, 1, 0x00, (True, \"R\"), (0x01, 0x26), (0x00, 0x02), 0x8000, 0xb997)"
   ]
  },
  {
   "cell_type": "code",
   "execution_count": 35,
   "metadata": {},
   "outputs": [],
   "source": [
    "door1 = Door(1, 0, 2, 0x00, (True, \"L\"), (0x5e, 0x06), (0x05, 0x00), 0x8000, 0x0000)"
   ]
  },
  {
   "cell_type": "code",
   "execution_count": 36,
   "metadata": {},
   "outputs": [],
   "source": [
    "#door0.to_bytes()"
   ]
  },
  {
   "cell_type": "code",
   "execution_count": 37,
   "metadata": {},
   "outputs": [],
   "source": [
    "default_state = RoomState(0, 0, 0xe5e6, 0, \"default_leveldata\", 0x00, 0x0000,\n",
    "                         \"default_fx\", \"default_enemies\", \"default_enemy_set\", (0xc1, 0xc1),\n",
    "                         \"default_scrolls\", \"default_main_asm\", \"default_plms\", 0xb899, \"default_setup_asm\")"
   ]
  },
  {
   "cell_type": "code",
   "execution_count": 38,
   "metadata": {},
   "outputs": [],
   "source": [
    "room0 = RoomHeader(0, 0x01, 0x00, (0x12, 0x02), (0x05, 0x01), 0x70, 0xa0, 0x00,\n",
    "                 [default_state], [], [], [], [], [], [], [], [], [door0, door1])"
   ]
  },
  {
   "cell_type": "code",
   "execution_count": 39,
   "metadata": {},
   "outputs": [
    {
     "name": "stdout",
     "output_type": "stream",
     "text": [
      "{'default_leveldata': 0x2156e8, 'default_background': 0x7b899, 'default_fx': 0x180e0, 'default_scrolls': 0x0, 'default_plms': 0x78058, 'default_enemies': 0x10847a, 'default_enemy_set': 0x1a00a1, 'default_main_asm': 0x0, 'default_setup_asm': 0x791d3, 'room_1_head': 0x791f8, 'room_2_head': 0x7965b, 'room_0_door_0': 0x1aed8, 'room_0_door_1': 0x1aee4, 'room_0_state_0': futureop(future(room_0_head), 0xd), 'room_0_doors': futureop(future(room_0_head), 0x27), 'room_0_head': 0x7ec1f}\n",
      "futurewrite(future(room_0_doors), futureop(future(room_0_head), 0x9))\n",
      "futurewrite(future(default_leveldata), future(room_0_state_0))\n",
      "futurewrite(future(default_fx), futureop(0x7ec2c, 0x6))\n",
      "futurewrite(future(default_enemies), futureop(0x7ec2c, 0x8))\n",
      "futurewrite(future(default_enemy_set), futureop(0x7ec2c, 0xa))\n",
      "futurewrite(future(default_scrolls), futureop(0x7ec2c, 0xe))\n"
     ]
    },
    {
     "ename": "AssertionError",
     "evalue": "Pointer's bank (128) does not match expected bank (143)",
     "output_type": "error",
     "traceback": [
      "\u001b[0;31m---------------------------------------------------------------------------\u001b[0m",
      "\u001b[0;31mAssertionError\u001b[0m                            Traceback (most recent call last)",
      "\u001b[0;32m<ipython-input-39-9db8e644bb81>\u001b[0m in \u001b[0;36m<module>\u001b[0;34m()\u001b[0m\n\u001b[0;32m----> 1\u001b[0;31m \u001b[0mrom_m\u001b[0m\u001b[0;34m.\u001b[0m\u001b[0mmemory\u001b[0m\u001b[0;34m.\u001b[0m\u001b[0malloc_rooms\u001b[0m\u001b[0;34m(\u001b[0m\u001b[0;34m[\u001b[0m\u001b[0mroom0\u001b[0m\u001b[0;34m]\u001b[0m\u001b[0;34m,\u001b[0m \u001b[0menv\u001b[0m\u001b[0;34m)\u001b[0m\u001b[0;34m\u001b[0m\u001b[0m\n\u001b[0m",
      "\u001b[0;32m/mnt/d/Ross/Programming/sm door rando/sm_rando/rom_tools/memory.py\u001b[0m in \u001b[0;36malloc_rooms\u001b[0;34m(self, rooms, env)\u001b[0m\n\u001b[1;32m    153\u001b[0m             \u001b[0mfutures\u001b[0m\u001b[0;34m.\u001b[0m\u001b[0mextend\u001b[0m\u001b[0;34m(\u001b[0m\u001b[0mfs\u001b[0m\u001b[0;34m)\u001b[0m\u001b[0;34m\u001b[0m\u001b[0m\n\u001b[1;32m    154\u001b[0m         \u001b[0mprint\u001b[0m\u001b[0;34m(\u001b[0m\u001b[0menv\u001b[0m\u001b[0;34m)\u001b[0m\u001b[0;34m\u001b[0m\u001b[0m\n\u001b[0;32m--> 155\u001b[0;31m         \u001b[0mself\u001b[0m\u001b[0;34m.\u001b[0m\u001b[0mfixup_futures\u001b[0m\u001b[0;34m(\u001b[0m\u001b[0mfutures\u001b[0m\u001b[0;34m,\u001b[0m \u001b[0menv\u001b[0m\u001b[0;34m)\u001b[0m\u001b[0;34m\u001b[0m\u001b[0m\n\u001b[0m\u001b[1;32m    156\u001b[0m \u001b[0;34m\u001b[0m\u001b[0m\n",
      "\u001b[0;32m/mnt/d/Ross/Programming/sm door rando/sm_rando/rom_tools/memory.py\u001b[0m in \u001b[0;36mfixup_futures\u001b[0;34m(self, futures, env)\u001b[0m\n\u001b[1;32m    141\u001b[0m         \u001b[0;32mfor\u001b[0m \u001b[0mf\u001b[0m \u001b[0;32min\u001b[0m \u001b[0mfutures\u001b[0m\u001b[0;34m:\u001b[0m\u001b[0;34m\u001b[0m\u001b[0m\n\u001b[1;32m    142\u001b[0m             \u001b[0mprint\u001b[0m\u001b[0;34m(\u001b[0m\u001b[0mf\u001b[0m\u001b[0;34m)\u001b[0m\u001b[0;34m\u001b[0m\u001b[0m\n\u001b[0;32m--> 143\u001b[0;31m             \u001b[0mf\u001b[0m\u001b[0;34m.\u001b[0m\u001b[0mfill\u001b[0m\u001b[0;34m(\u001b[0m\u001b[0mself\u001b[0m\u001b[0;34m.\u001b[0m\u001b[0mrom\u001b[0m\u001b[0;34m,\u001b[0m \u001b[0menv\u001b[0m\u001b[0;34m)\u001b[0m\u001b[0;34m\u001b[0m\u001b[0m\n\u001b[0m\u001b[1;32m    144\u001b[0m \u001b[0;34m\u001b[0m\u001b[0m\n\u001b[1;32m    145\u001b[0m     \u001b[0;32mdef\u001b[0m \u001b[0malloc_rooms\u001b[0m\u001b[0;34m(\u001b[0m\u001b[0mself\u001b[0m\u001b[0;34m,\u001b[0m \u001b[0mrooms\u001b[0m\u001b[0;34m,\u001b[0m \u001b[0menv\u001b[0m\u001b[0;34m=\u001b[0m\u001b[0;32mNone\u001b[0m\u001b[0;34m)\u001b[0m\u001b[0;34m:\u001b[0m\u001b[0;34m\u001b[0m\u001b[0m\n",
      "\u001b[0;32m/mnt/d/Ross/Programming/sm door rando/sm_rando/rom_tools/address.py\u001b[0m in \u001b[0;36mfill\u001b[0;34m(self, rom, env)\u001b[0m\n\u001b[1;32m    139\u001b[0m         \u001b[0;31m# Sad assert doesn't go over multiple lines :(\u001b[0m\u001b[0;34m\u001b[0m\u001b[0;34m\u001b[0m\u001b[0m\n\u001b[1;32m    140\u001b[0m         \u001b[0massertmsg\u001b[0m \u001b[0;34m=\u001b[0m \u001b[0;34m\"Pointer's bank ({}) does not match expected bank ({})\"\u001b[0m\u001b[0;34m.\u001b[0m\u001b[0mformat\u001b[0m\u001b[0;34m(\u001b[0m\u001b[0maddr\u001b[0m\u001b[0;34m.\u001b[0m\u001b[0mbank\u001b[0m\u001b[0;34m(\u001b[0m\u001b[0;34m)\u001b[0m\u001b[0;34m,\u001b[0m \u001b[0mself\u001b[0m\u001b[0;34m.\u001b[0m\u001b[0mbank\u001b[0m\u001b[0;34m)\u001b[0m\u001b[0;34m\u001b[0m\u001b[0m\n\u001b[0;32m--> 141\u001b[0;31m         \u001b[0;32massert\u001b[0m \u001b[0mself\u001b[0m\u001b[0;34m.\u001b[0m\u001b[0mbank\u001b[0m \u001b[0;32mis\u001b[0m \u001b[0;32mNone\u001b[0m \u001b[0;32mor\u001b[0m \u001b[0maddr\u001b[0m\u001b[0;34m.\u001b[0m\u001b[0mbank\u001b[0m\u001b[0;34m(\u001b[0m\u001b[0;34m)\u001b[0m \u001b[0;34m==\u001b[0m \u001b[0mself\u001b[0m\u001b[0;34m.\u001b[0m\u001b[0mbank\u001b[0m\u001b[0;34m,\u001b[0m \u001b[0massertmsg\u001b[0m\u001b[0;34m\u001b[0m\u001b[0m\n\u001b[0m\u001b[1;32m    142\u001b[0m         \u001b[0mrom\u001b[0m\u001b[0;34m.\u001b[0m\u001b[0mwrite_to_new\u001b[0m\u001b[0;34m(\u001b[0m\u001b[0mplace\u001b[0m\u001b[0;34m,\u001b[0m \u001b[0maddr\u001b[0m\u001b[0;34m.\u001b[0m\u001b[0mas_snes_bytes\u001b[0m\u001b[0;34m(\u001b[0m\u001b[0mself\u001b[0m\u001b[0;34m.\u001b[0m\u001b[0msize\u001b[0m\u001b[0;34m)\u001b[0m\u001b[0;34m)\u001b[0m\u001b[0;34m\u001b[0m\u001b[0m\n\u001b[1;32m    143\u001b[0m \u001b[0;34m\u001b[0m\u001b[0m\n",
      "\u001b[0;31mAssertionError\u001b[0m: Pointer's bank (128) does not match expected bank (143)"
     ]
    }
   ],
   "source": [
    "rom_m.memory.alloc_rooms([room0], env)"
   ]
  },
  {
   "cell_type": "code",
   "execution_count": 25,
   "metadata": {},
   "outputs": [
    {
     "data": {
      "text/plain": [
       "'0x8f'"
      ]
     },
     "execution_count": 25,
     "metadata": {},
     "output_type": "execute_result"
    }
   ],
   "source": [
    "hex(128)\n",
    "hex(143)"
   ]
  },
  {
   "cell_type": "code",
   "execution_count": null,
   "metadata": {},
   "outputs": [],
   "source": []
  }
 ],
 "metadata": {
  "kernelspec": {
   "display_name": "Python 3",
   "language": "python",
   "name": "python3"
  },
  "language_info": {
   "codemirror_mode": {
    "name": "ipython",
    "version": 3
   },
   "file_extension": ".py",
   "mimetype": "text/x-python",
   "name": "python",
   "nbconvert_exporter": "python",
   "pygments_lexer": "ipython3",
   "version": "3.6.5"
  }
 },
 "nbformat": 4,
 "nbformat_minor": 2
}
