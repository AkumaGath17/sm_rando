{
 "cells": [
  {
   "cell_type": "code",
   "execution_count": 37,
   "metadata": {},
   "outputs": [],
   "source": [
    "from map_gen import *\n",
    "import random"
   ]
  },
  {
   "cell_type": "code",
   "execution_count": 38,
   "metadata": {},
   "outputs": [],
   "source": [
    "xys = xy_set((50,25))"
   ]
  },
  {
   "cell_type": "code",
   "execution_count": 39,
   "metadata": {},
   "outputs": [
    {
     "name": "stdout",
     "output_type": "stream",
     "text": [
      "[(23,19), (26,10), (19,22), (41,2), (25,5), (44,2), (16,5), (26,23), (8,0), (5,11)]\n"
     ]
    }
   ],
   "source": [
    "locs = random.sample(xys, 10)\n",
    "print(locs)"
   ]
  },
  {
   "cell_type": "code",
   "execution_count": 40,
   "metadata": {},
   "outputs": [
    {
     "name": "stdout",
     "output_type": "stream",
     "text": [
      "[(8,0), (41,2), (44,2), (25,5), (16,5), (26,10), (5,11), (23,19), (19,22), (26,23)]\n"
     ]
    }
   ],
   "source": [
    "sorted_locs = sorted(locs, key=lambda n: n.y)\n",
    "print(sorted_locs)"
   ]
  },
  {
   "cell_type": "code",
   "execution_count": 41,
   "metadata": {},
   "outputs": [],
   "source": [
    "up_es = set([\"a\", \"b\", \"c\"])\n",
    "down_es = set([\"d\", \"e\", \"f\"])\n",
    "nodes = [\"a\", \"b\", \"c\", \"d\", \"e\", \"f\", \"g\", \"h\", \"i\", \"j\"]"
   ]
  },
  {
   "cell_type": "code",
   "execution_count": 42,
   "metadata": {},
   "outputs": [
    {
     "name": "stdout",
     "output_type": "stream",
     "text": [
      "['a', 'b', 'c', 'd', 'e', 'f', 'g', 'h', 'i', 'j']\n",
      "a\n",
      "b\n",
      "c\n",
      "d\n",
      "e\n",
      "f\n",
      "g\n",
      "h\n",
      "i\n",
      "j\n",
      "{'b': (41,2), 'c': (44,2), 'e': (19,22), 'd': (26,23), 'a': (8,0), 'f': (23,19)}\n"
     ]
    }
   ],
   "source": [
    "node_locs = {}\n",
    "print(nodes)\n",
    "for node in nodes:\n",
    "    print(node)\n",
    "    if node in up_es:\n",
    "        node_locs[node] = sorted_locs.pop(0)\n",
    "    elif node in down_es:\n",
    "        node_locs[node] = sorted_locs.pop()\n",
    "nodes = set(nodes) - up_es - down_es\n",
    "print(node_locs)"
   ]
  },
  {
   "cell_type": "code",
   "execution_count": null,
   "metadata": {},
   "outputs": [],
   "source": []
  }
 ],
 "metadata": {
  "kernelspec": {
   "display_name": "Python 3",
   "language": "python",
   "name": "python3"
  },
  "language_info": {
   "codemirror_mode": {
    "name": "ipython",
    "version": 3
   },
   "file_extension": ".py",
   "mimetype": "text/x-python",
   "name": "python",
   "nbconvert_exporter": "python",
   "pygments_lexer": "ipython3",
   "version": "3.4.3"
  }
 },
 "nbformat": 4,
 "nbformat_minor": 2
}
