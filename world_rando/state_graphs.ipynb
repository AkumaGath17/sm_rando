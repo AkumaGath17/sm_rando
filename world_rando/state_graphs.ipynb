{
 "cells": [
  {
   "cell_type": "code",
   "execution_count": 52,
   "metadata": {},
   "outputs": [
    {
     "name": "stdout",
     "output_type": "stream",
     "text": [
      "Populating the interactive namespace from numpy and matplotlib\n",
      "The autoreload extension is already loaded. To reload it, use:\n",
      "  %reload_ext autoreload\n"
     ]
    },
    {
     "name": "stderr",
     "output_type": "stream",
     "text": [
      "/home/aremath/.local/lib/python3.8/site-packages/IPython/core/magics/pylab.py:159: UserWarning: pylab import has clobbered these variables: ['product', 'Infinity']\n",
      "`%matplotlib` prevents importing * from pylab and numpy\n",
      "  warn(\"pylab import has clobbered these variables: %s\"  % clobbered +\n"
     ]
    }
   ],
   "source": [
    "%pylab inline\n",
    "%load_ext autoreload\n",
    "%autoreload 2"
   ]
  },
  {
   "cell_type": "code",
   "execution_count": 32,
   "metadata": {},
   "outputs": [],
   "source": [
    "import scipy.sparse\n",
    "import sklearn.manifold\n",
    "from sm_rando.world_rando.model_checking import *\n",
    "from functools import reduce"
   ]
  },
  {
   "cell_type": "code",
   "execution_count": 102,
   "metadata": {},
   "outputs": [
    {
     "name": "stdout",
     "output_type": "stream",
     "text": [
      "Search to reach None from c(39,9)\n"
     ]
    },
    {
     "name": "stderr",
     "output_type": "stream",
     "text": [
      "  7%|▋         | 251/3645 [00:00<00:02, 1217.03it/s]"
     ]
    },
    {
     "name": "stdout",
     "output_type": "stream",
     "text": [
      "Applied 3646 rules\n",
      "Enumerated 3645 states in 3.2437752000114415 seconds\n"
     ]
    },
    {
     "name": "stderr",
     "output_type": "stream",
     "text": [
      "100%|██████████| 3645/3645 [00:03<00:00, 1123.58it/s]\n"
     ]
    },
    {
     "name": "stdout",
     "output_type": "stream",
     "text": [
      "Number of States: 3645\n",
      "Built graph with 15344 edges in 3.3696537999931024 seconds\n",
      "Checked model in 0.6749611999985063 seconds\n",
      "Search to reach None from c(39,9)\n"
     ]
    },
    {
     "name": "stderr",
     "output_type": "stream",
     "text": [
      "  3%|▎         | 120/4700 [00:00<00:03, 1197.68it/s]"
     ]
    },
    {
     "name": "stdout",
     "output_type": "stream",
     "text": [
      "Applied 4701 rules\n",
      "Enumerated 4700 states in 4.414189500006614 seconds\n"
     ]
    },
    {
     "name": "stderr",
     "output_type": "stream",
     "text": [
      "100%|██████████| 4700/4700 [00:04<00:00, 1071.85it/s]\n"
     ]
    },
    {
     "name": "stdout",
     "output_type": "stream",
     "text": [
      "Number of States: 4700\n",
      "Built graph with 19625 edges in 4.544637599989073 seconds\n",
      "Checked model in 0.6275319999986095 seconds\n",
      "{(c(13,16)|V: 1, H: RUN, 0|JUMP|ISet(['M'])), (c(13,15)|V: 1, H: RUN, 0|JUMP|ISet(['M'])), (c(13,15)|V: 0, H: RUN, 0|JUMP|ISet(['M']))}\n",
      "[(c(39,9)|V: 0, H: RUN, 0|STAND|ISet([])), (c(40,9)|V: 0, H: RUN, 0|STAND|ISet([])), (c(41,9)|V: 0, H: RUN, 0|STAND|ISet([])), (c(42,9)|V: 0, H: RUN, 0|STAND|ISet([])), (c(43,9)|V: 0, H: RUN, 0|STAND|ISet([])), (c(44,10)|V: 0, H: RUN, 0|STAND|ISet([])), (c(45,10)|V: 0, H: RUN, 0|STAND|ISet([])), (c(48,3)|V: 0, H: RUN, 0|JUMP|ISet([])), (c(48,4)|V: 1, H: RUN, 0|JUMP|ISet([])), (c(48,5)|V: 1, H: RUN, 0|JUMP|ISet([])), (c(48,6)|V: 1, H: RUN, 0|JUMP|ISet([])), (c(48,7)|V: 1, H: RUN, 0|JUMP|ISet([])), (c(48,8)|V: 1, H: RUN, 0|JUMP|ISet([])), (c(48,9)|V: 1, H: RUN, 0|JUMP|ISet([])), (c(48,10)|V: 1, H: RUN, 0|JUMP|ISet([])), (c(48,10)|V: 0, H: RUN, 0|STAND|ISet([])), (c(49,10)|V: 0, H: RUN, 0|STAND|ISet([])), (c(50,10)|V: 0, H: RUN, 0|STAND|ISet([])), (c(51,10)|V: 0, H: RUN, 0|STAND|ISet([])), (c(52,10)|V: 0, H: RUN, 0|STAND|ISet([])), (c(53,10)|V: 0, H: RUN, 0|STAND|ISet([])), (c(54,10)|V: 0, H: RUN, 0|STAND|ISet([])), (c(55,10)|V: 0, H: RUN, 0|STAND|ISet([])), (c(56,10)|V: 0, H: RUN, 0|STAND|ISet([])), (c(57,10)|V: 0, H: RUN, 0|STAND|ISet([])), (c(58,10)|V: 0, H: RUN, 0|STAND|ISet([])), (c(59,10)|V: 0, H: RUN, 0|STAND|ISet([])), (c(60,10)|V: 0, H: RUN, 0|STAND|ISet([])), (c(61,10)|V: 0, H: RUN, 0|STAND|ISet([])), (c(62,10)|V: 0, H: RUN, 0|STAND|ISet([])), (c(63,10)|V: 0, H: RUN, 0|STAND|ISet([])), (c(64,10)|V: 0, H: RUN, 0|STAND|ISet([])), (c(65,10)|V: 0, H: RUN, 0|STAND|ISet([])), (c(66,10)|V: 0, H: RUN, 0|STAND|ISet([])), (c(67,10)|V: 0, H: RUN, 0|STAND|ISet([])), (c(68,10)|V: 0, H: RUN, 0|STAND|ISet([])), (c(69,10)|V: 0, H: RUN, 0|STAND|ISet([])), (c(70,10)|V: 0, H: RUN, 0|STAND|ISet([])), (c(71,10)|V: 0, H: RUN, 0|STAND|ISet([])), (c(74,3)|V: 0, H: RUN, 0|JUMP|ISet([])), (c(74,4)|V: 1, H: RUN, 0|JUMP|ISet([])), (c(74,5)|V: 1, H: RUN, 0|JUMP|ISet([])), (c(74,6)|V: 1, H: RUN, 0|JUMP|ISet([])), (c(74,7)|V: 1, H: RUN, 0|JUMP|ISet([])), (c(74,7)|V: 0, H: RUN, 0|STAND|ISet([])), (c(75,7)|V: 0, H: RUN, 0|STAND|ISet([])), (c(76,7)|V: 0, H: RUN, 0|STAND|ISet([])), (c(77,7)|V: 0, H: RUN, 0|STAND|ISet([])), (c(78,6)|V: 0, H: RUN, 0|STAND|ISet([])), (c(79,7)|V: 0, H: RUN, 0|STAND|ISet([])), (c(80,7)|V: 0, H: RUN, 0|STAND|ISet([])), (c(81,7)|V: 0, H: RUN, 0|STAND|ISet([])), (c(82,7)|V: 0, H: RUN, 0|STAND|ISet([])), (c(83,3)|V: 0, H: RUN, 0|JUMP|ISet([])), (c(84,3)|V: 1, H: RUN, 0|JUMP|ISet([])), (c(84,4)|V: 1, H: RUN, 0|JUMP|ISet([])), (c(84,5)|V: 1, H: RUN, 0|JUMP|ISet([])), (c(84,5)|V: 0, H: RUN, 0|STAND|ISet([])), (c(85,5)|V: 0, H: RUN, 0|STAND|ISet([])), (c(86,5)|V: 0, H: RUN, 0|STAND|ISet([])), (c(87,5)|V: 0, H: RUN, 0|STAND|ISet([])), (c(88,5)|V: 1, H: RUN, 0|JUMP|ISet([])), (c(88,6)|V: 1, H: RUN, 0|JUMP|ISet([])), (c(88,7)|V: 1, H: RUN, 0|JUMP|ISet([])), (c(88,8)|V: 1, H: RUN, 0|JUMP|ISet([])), (c(88,9)|V: 1, H: RUN, 0|JUMP|ISet([])), (c(88,10)|V: 1, H: RUN, 0|JUMP|ISet([])), (c(88,11)|V: 1, H: RUN, 0|JUMP|ISet([])), (c(88,12)|V: 1, H: RUN, 0|JUMP|ISet([])), (c(88,13)|V: 1, H: RUN, 0|JUMP|ISet([])), (c(88,14)|V: 1, H: RUN, 0|JUMP|ISet([])), (c(88,15)|V: 1, H: RUN, 0|JUMP|ISet([])), (c(88,16)|V: 1, H: RUN, 0|JUMP|ISet([])), (c(88,17)|V: 1, H: RUN, 0|JUMP|ISet([])), (c(88,18)|V: 1, H: RUN, 0|JUMP|ISet([])), (c(88,19)|V: 1, H: RUN, 0|JUMP|ISet([])), (c(88,20)|V: 1, H: RUN, 0|JUMP|ISet([])), (c(88,21)|V: 1, H: RUN, 0|JUMP|ISet([])), (c(88,22)|V: 1, H: RUN, 0|JUMP|ISet([])), (c(88,23)|V: 1, H: RUN, 0|JUMP|ISet([])), (c(88,23)|V: 0, H: RUN, 0|STAND|ISet([])), (c(87,23)|V: 0, H: RUN, 0|STAND|ISet([])), (c(86,23)|V: 0, H: RUN, 0|STAND|ISet([])), (c(85,23)|V: 0, H: RUN, 0|STAND|ISet([])), (c(84,23)|V: 0, H: RUN, 0|STAND|ISet([])), (c(83,23)|V: 0, H: RUN, 0|STAND|ISet([])), (c(82,23)|V: 0, H: RUN, 0|STAND|ISet([])), (c(81,22)|V: 0, H: RUN, 0|STAND|ISet([])), (c(80,23)|V: 0, H: RUN, 0|STAND|ISet([])), (c(79,23)|V: 0, H: RUN, 0|STAND|ISet([])), (c(78,23)|V: 0, H: RUN, 0|STAND|ISet([])), (c(77,23)|V: 0, H: RUN, 0|STAND|ISet([])), (c(76,23)|V: 0, H: RUN, 0|STAND|ISet([])), (c(75,23)|V: 0, H: RUN, 0|STAND|ISet([])), (c(74,23)|V: 0, H: RUN, 0|STAND|ISet([])), (c(73,23)|V: 0, H: RUN, 0|STAND|ISet([])), (c(72,23)|V: 0, H: RUN, 0|STAND|ISet([])), (c(71,23)|V: 0, H: RUN, 0|STAND|ISet([])), (c(70,23)|V: 0, H: RUN, 0|STAND|ISet([])), (c(69,23)|V: 0, H: RUN, 0|STAND|ISet([])), (c(69,23)|V: 0, H: RUN, 0|STAND|ISet(['M'])), (c(70,23)|V: 0, H: RUN, 0|STAND|ISet(['M'])), (c(71,23)|V: 0, H: RUN, 0|STAND|ISet(['M'])), (c(72,23)|V: 0, H: RUN, 0|STAND|ISet(['M'])), (c(73,23)|V: 0, H: RUN, 0|STAND|ISet(['M'])), (c(74,23)|V: 0, H: RUN, 0|STAND|ISet(['M'])), (c(75,23)|V: 0, H: RUN, 0|STAND|ISet(['M'])), (c(76,23)|V: 0, H: RUN, 0|STAND|ISet(['M'])), (c(77,23)|V: 0, H: RUN, 0|STAND|ISet(['M'])), (c(78,22)|V: 0, H: RUN, 0|STAND|ISet(['M'])), (c(79,23)|V: 0, H: RUN, 0|STAND|ISet(['M'])), (c(80,23)|V: 0, H: RUN, 0|STAND|ISet(['M'])), (c(81,22)|V: 0, H: RUN, 0|STAND|ISet(['M'])), (c(82,23)|V: 0, H: RUN, 0|STAND|ISet(['M'])), (c(83,23)|V: 0, H: RUN, 0|STAND|ISet(['M'])), (c(84,23)|V: 0, H: RUN, 0|STAND|ISet(['M'])), (c(85,23)|V: 0, H: RUN, 0|STAND|ISet(['M'])), (c(86,23)|V: 0, H: RUN, 0|STAND|ISet(['M'])), (c(87,23)|V: 0, H: RUN, 0|STAND|ISet(['M'])), (c(88,23)|V: 0, H: RUN, 0|STAND|ISet(['M'])), (c(91,16)|V: 0, H: RUN, 0|JUMP|ISet(['M'])), (c(92,16)|V: 1, H: RUN, 0|JUMP|ISet(['M'])), (c(92,17)|V: 1, H: RUN, 0|JUMP|ISet(['M'])), (c(92,18)|V: 1, H: RUN, 0|JUMP|ISet(['M'])), (c(92,18)|V: 0, H: RUN, 0|STAND|ISet(['M'])), (c(89,11)|V: 0, H: RUN, 0|JUMP|ISet(['M'])), (c(89,12)|V: 1, H: RUN, 0|JUMP|ISet(['M'])), (c(89,13)|V: 1, H: RUN, 0|JUMP|ISet(['M'])), (c(89,13)|V: 0, H: RUN, 0|STAND|ISet(['M'])), (c(86,6)|V: 0, H: RUN, 0|JUMP|ISet(['M'])), (c(86,7)|V: 1, H: RUN, 0|JUMP|ISet(['M'])), (c(86,7)|V: 0, H: RUN, 0|STAND|ISet(['M'])), (c(85,3)|V: 0, H: RUN, 0|JUMP|ISet(['M'])), (c(85,4)|V: 1, H: RUN, 0|JUMP|ISet(['M'])), (c(85,5)|V: 1, H: RUN, 0|JUMP|ISet(['M'])), (c(85,5)|V: 0, H: RUN, 0|STAND|ISet(['M'])), (c(84,5)|V: 0, H: RUN, 0|STAND|ISet(['M'])), (c(83,5)|V: 1, H: RUN, 0|JUMP|ISet(['M'])), (c(83,6)|V: 1, H: RUN, 0|JUMP|ISet(['M'])), (c(83,7)|V: 1, H: RUN, 0|JUMP|ISet(['M'])), (c(83,7)|V: 0, H: RUN, 0|STAND|ISet(['M'])), (c(82,7)|V: 0, H: RUN, 0|STAND|ISet(['M'])), (c(81,7)|V: 0, H: RUN, 0|STAND|ISet(['M'])), (c(80,7)|V: 0, H: RUN, 0|STAND|ISet(['M'])), (c(79,7)|V: 0, H: RUN, 0|STAND|ISet(['M'])), (c(78,6)|V: 0, H: RUN, 0|STAND|ISet(['M'])), (c(77,7)|V: 0, H: RUN, 0|STAND|ISet(['M'])), (c(76,7)|V: 0, H: RUN, 0|STAND|ISet(['M'])), (c(75,7)|V: 0, H: RUN, 0|STAND|ISet(['M'])), (c(74,7)|V: 0, H: RUN, 0|STAND|ISet(['M'])), (c(73,7)|V: 1, H: RUN, 0|JUMP|ISet(['M'])), (c(73,8)|V: 1, H: RUN, 0|JUMP|ISet(['M'])), (c(73,9)|V: 1, H: RUN, 0|JUMP|ISet(['M'])), (c(73,10)|V: 1, H: RUN, 0|JUMP|ISet(['M'])), (c(73,10)|V: 0, H: RUN, 0|STAND|ISet(['M'])), (c(72,10)|V: 0, H: RUN, 0|STAND|ISet(['M'])), (c(71,10)|V: 0, H: RUN, 0|STAND|ISet(['M'])), (c(70,10)|V: 0, H: RUN, 0|STAND|ISet(['M'])), (c(69,10)|V: 0, H: RUN, 0|STAND|ISet(['M'])), (c(68,10)|V: 0, H: RUN, 0|STAND|ISet(['M'])), (c(67,10)|V: 0, H: RUN, 0|STAND|ISet(['M'])), (c(66,10)|V: 0, H: RUN, 0|STAND|ISet(['M'])), (c(65,10)|V: 0, H: RUN, 0|STAND|ISet(['M'])), (c(64,10)|V: 0, H: RUN, 0|STAND|ISet(['M'])), (c(63,10)|V: 0, H: RUN, 0|STAND|ISet(['M'])), (c(62,10)|V: 0, H: RUN, 0|STAND|ISet(['M'])), (c(61,10)|V: 0, H: RUN, 0|STAND|ISet(['M'])), (c(60,10)|V: 0, H: RUN, 0|STAND|ISet(['M'])), (c(59,10)|V: 0, H: RUN, 0|STAND|ISet(['M'])), (c(58,10)|V: 0, H: RUN, 0|STAND|ISet(['M'])), (c(57,10)|V: 0, H: RUN, 0|STAND|ISet(['M'])), (c(56,10)|V: 0, H: RUN, 0|STAND|ISet(['M'])), (c(55,10)|V: 0, H: RUN, 0|STAND|ISet(['M'])), (c(54,10)|V: 0, H: RUN, 0|STAND|ISet(['M'])), (c(53,10)|V: 0, H: RUN, 0|STAND|ISet(['M'])), (c(52,10)|V: 0, H: RUN, 0|STAND|ISet(['M'])), (c(51,10)|V: 0, H: RUN, 0|STAND|ISet(['M'])), (c(50,10)|V: 0, H: RUN, 0|STAND|ISet(['M'])), (c(49,10)|V: 0, H: RUN, 0|STAND|ISet(['M'])), (c(46,3)|V: 0, H: RUN, 0|JUMP|ISet(['M'])), (c(45,3)|V: 1, H: RUN, 0|JUMP|ISet(['M'])), (c(45,4)|V: 1, H: RUN, 0|JUMP|ISet(['M'])), (c(45,5)|V: 1, H: RUN, 0|JUMP|ISet(['M'])), (c(45,6)|V: 1, H: RUN, 0|JUMP|ISet(['M'])), (c(45,7)|V: 1, H: RUN, 0|JUMP|ISet(['M'])), (c(45,8)|V: 1, H: RUN, 0|JUMP|ISet(['M'])), (c(45,9)|V: 1, H: RUN, 0|JUMP|ISet(['M'])), (c(45,10)|V: 1, H: RUN, 0|JUMP|ISet(['M'])), (c(45,10)|V: 0, H: RUN, 0|STAND|ISet(['M'])), (c(44,10)|V: 0, H: RUN, 0|STAND|ISet(['M'])), (c(43,9)|V: 0, H: RUN, 0|STAND|ISet(['M'])), (c(42,9)|V: 0, H: RUN, 0|STAND|ISet(['M'])), (c(41,9)|V: 0, H: RUN, 0|STAND|ISet(['M'])), (c(40,9)|V: 0, H: RUN, 0|STAND|ISet(['M'])), (c(39,9)|V: 0, H: RUN, 0|STAND|ISet(['M'])), (c(38,9)|V: 0, H: RUN, 0|STAND|ISet(['M'])), (c(37,9)|V: 0, H: RUN, 0|STAND|ISet(['M'])), (c(36,9)|V: 0, H: RUN, 0|STAND|ISet(['M'])), (c(35,10)|V: 0, H: RUN, 0|STAND|ISet(['M'])), (c(34,10)|V: 0, H: RUN, 0|STAND|ISet(['M'])), (c(33,10)|V: 0, H: RUN, 0|STAND|ISet(['M'])), (c(31,5)|V: 0, H: RUN, 0|JUMP|ISet(['M'])), (c(31,5)|V: 0, H: RUN, 0|STAND|ISet(['M'])), (c(31,2)|V: 0, H: RUN, 0|JUMP|ISet(['M'])), (c(30,2)|V: 1, H: RUN, 0|JUMP|ISet(['M'])), (c(30,2)|V: 0, H: RUN, 0|STAND|ISet(['M'])), (c(29,2)|V: 0, H: RUN, 0|STAND|ISet(['M'])), (c(28,2)|V: 0, H: RUN, 0|STAND|ISet(['M'])), (c(27,2)|V: 0, H: RUN, 0|STAND|ISet(['M'])), (c(26,2)|V: 1, H: RUN, 0|JUMP|ISet(['M'])), (c(26,3)|V: 1, H: RUN, 0|JUMP|ISet(['M'])), (c(26,4)|V: 1, H: RUN, 0|JUMP|ISet(['M'])), (c(26,5)|V: 1, H: RUN, 0|JUMP|ISet(['M'])), (c(26,6)|V: 1, H: RUN, 0|JUMP|ISet(['M'])), (c(26,7)|V: 1, H: RUN, 0|JUMP|ISet(['M'])), (c(26,8)|V: 1, H: RUN, 0|JUMP|ISet(['M'])), (c(26,9)|V: 1, H: RUN, 0|JUMP|ISet(['M'])), (c(26,10)|V: 1, H: RUN, 0|JUMP|ISet(['M'])), (c(26,10)|V: 0, H: RUN, 0|STAND|ISet(['M'])), (c(25,6)|V: 0, H: RUN, 0|JUMP|ISet(['M'])), (c(24,6)|V: 1, H: RUN, 0|JUMP|ISet(['M'])), (c(24,7)|V: 1, H: RUN, 0|JUMP|ISet(['M'])), (c(24,8)|V: 1, H: RUN, 0|JUMP|ISet(['M'])), (c(24,8)|V: 0, H: RUN, 0|STAND|ISet(['M'])), (c(23,9)|V: 0, H: RUN, 0|STAND|ISet(['M'])), (c(21,3)|V: 0, H: RUN, 0|JUMP|ISet(['M'])), (c(20,3)|V: 1, H: RUN, 0|JUMP|ISet(['M'])), (c(20,4)|V: 1, H: RUN, 0|JUMP|ISet(['M'])), (c(20,5)|V: 1, H: RUN, 0|JUMP|ISet(['M'])), (c(20,6)|V: 1, H: RUN, 0|JUMP|ISet(['M'])), (c(20,7)|V: 1, H: RUN, 0|JUMP|ISet(['M'])), (c(20,8)|V: 1, H: RUN, 0|JUMP|ISet(['M'])), (c(20,9)|V: 1, H: RUN, 0|JUMP|ISet(['M'])), (c(20,10)|V: 1, H: RUN, 0|JUMP|ISet(['M'])), (c(20,10)|V: 0, H: RUN, 0|STAND|ISet(['M'])), (c(19,9)|V: 0, H: RUN, 0|STAND|ISet(['M'])), (c(18,8)|V: 0, H: RUN, 0|STAND|ISet(['M'])), (c(17,8)|V: 1, H: RUN, 0|JUMP|ISet(['M'])), (c(17,9)|V: 1, H: RUN, 0|JUMP|ISet(['M'])), (c(17,10)|V: 1, H: RUN, 0|JUMP|ISet(['M'])), (c(17,10)|V: 0, H: RUN, 0|STAND|ISet(['M'])), (c(16,10)|V: 0, H: RUN, 0|STAND|ISet(['M'])), (c(15,10)|V: 0, H: RUN, 0|STAND|ISet(['M'])), (c(14,10)|V: 0, H: RUN, 0|STAND|ISet(['M'])), (c(13,10)|V: 1, H: RUN, 0|JUMP|ISet(['M'])), (c(13,11)|V: 1, H: RUN, 0|JUMP|ISet(['M'])), (c(13,12)|V: 1, H: RUN, 0|JUMP|ISet(['M'])), (c(13,13)|V: 1, H: RUN, 0|JUMP|ISet(['M'])), (c(13,14)|V: 1, H: RUN, 0|JUMP|ISet(['M'])), (c(13,15)|V: 1, H: RUN, 0|JUMP|ISet(['M'])), (c(13,16)|V: 1, H: RUN, 0|JUMP|ISet(['M'])), (c(13,17)|V: 1, H: RUN, 0|JUMP|ISet(['M'])), (c(13,18)|V: 1, H: RUN, 0|JUMP|ISet(['M'])), (c(13,19)|V: 1, H: RUN, 0|JUMP|ISet(['M'])), (c(13,20)|V: 1, H: RUN, 0|JUMP|ISet(['M'])), (c(13,21)|V: 1, H: RUN, 0|JUMP|ISet(['M'])), (c(13,22)|V: 1, H: RUN, 0|JUMP|ISet(['M'])), (c(13,22)|V: 0, H: RUN, 0|STAND|ISet(['M'])), (c(13,15)|V: 0, H: RUN, 0|JUMP|ISet(['M']))]\n"
     ]
    }
   ],
   "source": [
    "out_path = Path(\"../output\")\n",
    "rules, tests = parse_rules.parse_rules([\"../encoding/rules/rules.yaml\",\n",
    "        \"../encoding/rules/model_checking_tests/model_checking_tests.yaml\"])\n",
    "c1 = verify(tests[\"ModifiedConstructionZone1\"], rules.values(), no_softlocks, out_path, no_softlocks_inner)\n",
    "c2 = verify(tests[\"ModifiedConstructionZone2\"], rules.values(), no_softlocks, out_path, no_softlocks_inner)"
   ]
  },
  {
   "cell_type": "code",
   "execution_count": 13,
   "metadata": {},
   "outputs": [],
   "source": [
    "k_c1 = c1[1]\n",
    "k_c2 = c2[1]"
   ]
  },
  {
   "cell_type": "code",
   "execution_count": 34,
   "metadata": {},
   "outputs": [],
   "source": [
    "def make_embedding(ks):\n",
    "    k_states = [set(k.states()) for k in ks]\n",
    "    all_states = reduce(lambda x,y: x | y, k_states)\n",
    "    state_ids = {k:i for i,k in enumerate(all_states)}\n",
    "    return state_ids\n",
    "    \n",
    "def kripke_to_graph(k, embedding):\n",
    "    edges = []\n",
    "    for s1, s2 in k.transitions():\n",
    "        s1_id = str(embedding[s1])\n",
    "        s2_id = str(embedding[s2])\n",
    "        edges.append((s1_id, s2_id))\n",
    "    return np.array(edges)"
   ]
  },
  {
   "cell_type": "code",
   "execution_count": 35,
   "metadata": {},
   "outputs": [],
   "source": [
    "embedding = make_embedding([k_c1, k_c2])\n",
    "g1 = kripke_to_graph(k_c1, embedding)\n",
    "g2 = kripke_to_graph(k_c2, embedding)"
   ]
  },
  {
   "cell_type": "code",
   "execution_count": 47,
   "metadata": {},
   "outputs": [],
   "source": [
    "n = len(embedding)\n",
    "g1_matrix = scipy.sparse.coo_matrix(\n",
    "    (np.ones(len(g1)),(g1[:,0],g1[:,1])),\n",
    "    shape=(n,n))"
   ]
  },
  {
   "cell_type": "code",
   "execution_count": 49,
   "metadata": {},
   "outputs": [
    {
     "name": "stderr",
     "output_type": "stream",
     "text": [
      "/usr/local/lib/python3.8/dist-packages/sklearn/utils/validation.py:63: UserWarning: Array is not symmetric, and will be converted to symmetric by average with its transpose.\n",
      "  return f(*args, **kwargs)\n",
      "/usr/local/lib/python3.8/dist-packages/sklearn/manifold/_spectral_embedding.py:245: UserWarning: Graph is not fully connected, spectral embedding may not work as expected.\n",
      "  warnings.warn(\"Graph is not fully connected, spectral embedding\"\n"
     ]
    },
    {
     "name": "stdout",
     "output_type": "stream",
     "text": [
      "CPU times: user 12.5 s, sys: 14.6 s, total: 27.1 s\n",
      "Wall time: 2.54 s\n"
     ]
    },
    {
     "data": {
      "text/plain": [
       "SpectralEmbedding(affinity='precomputed', n_components=3)"
      ]
     },
     "execution_count": 49,
     "metadata": {},
     "output_type": "execute_result"
    }
   ],
   "source": [
    "%%time\n",
    "g1_embedding = sklearn.manifold.SpectralEmbedding(\n",
    "    n_components=3,\n",
    "    affinity='precomputed')\n",
    "\n",
    "g1_embedding.fit(g1_matrix)"
   ]
  },
  {
   "cell_type": "code",
   "execution_count": 53,
   "metadata": {},
   "outputs": [
    {
     "data": {
      "image/png": "[encoded data removed]",
      "text/plain": [
       "<Figure size 720x360 with 1 Axes>"
      ]
     },
     "metadata": {
      "needs_background": "light"
     },
     "output_type": "display_data"
    }
   ],
   "source": [
    "figsize(10,5);\n",
    "axis('off');\n",
    "scatter(g1_embedding.embedding_[:,1],\n",
    "        g1_embedding.embedding_[:,0],\n",
    "        s=1,\n",
    "        c=g1_embedding.embedding_[:,2],\n",
    "        alpha=0.25,\n",
    "        );\n",
    "axhline(0,color='black',alpha=0.1);\n",
    "axvline(0,color='black',alpha=0.1);"
   ]
  },
  {
   "cell_type": "code",
   "execution_count": 55,
   "metadata": {},
   "outputs": [],
   "source": [
    "g12 = np.concatenate([g1, g2])"
   ]
  },
  {
   "cell_type": "code",
   "execution_count": 58,
   "metadata": {},
   "outputs": [],
   "source": [
    "g12_matrix = scipy.sparse.coo_matrix(\n",
    "    (np.ones(len(g12)),(g12[:,0],g12[:,1])),\n",
    "    shape=(n,n))"
   ]
  },
  {
   "cell_type": "code",
   "execution_count": 59,
   "metadata": {},
   "outputs": [
    {
     "name": "stderr",
     "output_type": "stream",
     "text": [
      "/usr/local/lib/python3.8/dist-packages/sklearn/utils/validation.py:63: UserWarning: Array is not symmetric, and will be converted to symmetric by average with its transpose.\n",
      "  return f(*args, **kwargs)\n"
     ]
    },
    {
     "name": "stdout",
     "output_type": "stream",
     "text": [
      "CPU times: user 24 s, sys: 30.2 s, total: 54.2 s\n",
      "Wall time: 4.95 s\n"
     ]
    },
    {
     "data": {
      "text/plain": [
       "SpectralEmbedding(affinity='precomputed', n_components=3)"
      ]
     },
     "execution_count": 59,
     "metadata": {},
     "output_type": "execute_result"
    }
   ],
   "source": [
    "%%time\n",
    "g12_embedding = sklearn.manifold.SpectralEmbedding(\n",
    "    n_components=3,\n",
    "    affinity='precomputed')\n",
    "\n",
    "g12_embedding.fit(g12_matrix)"
   ]
  },
  {
   "cell_type": "code",
   "execution_count": 60,
   "metadata": {},
   "outputs": [
    {
     "data": {
      "image/png": "[encoded data removed]",
      "text/plain": [
       "<Figure size 720x360 with 1 Axes>"
      ]
     },
     "metadata": {
      "needs_background": "light"
     },
     "output_type": "display_data"
    }
   ],
   "source": [
    "figsize(10,5);\n",
    "axis('off');\n",
    "scatter(g12_embedding.embedding_[:,1],\n",
    "        g12_embedding.embedding_[:,0],\n",
    "        s=1,\n",
    "        c=g12_embedding.embedding_[:,2],\n",
    "        alpha=0.25,\n",
    "        );\n",
    "axhline(0,color='black',alpha=0.1);\n",
    "axvline(0,color='black',alpha=0.1);"
   ]
  },
  {
   "cell_type": "code",
   "execution_count": 112,
   "metadata": {},
   "outputs": [],
   "source": [
    "goal_state = tests[\"ModifiedConstructionZone2\"][1]\n",
    "for state in k_c2.S0:\n",
    "    initial_state = state\n",
    "softlock_state = c2[2][-1]\n",
    "big_states = [initial_state, goal_state, softlock_state]"
   ]
  },
  {
   "cell_type": "code",
   "execution_count": 113,
   "metadata": {},
   "outputs": [],
   "source": [
    "def state_to_color(state):\n",
    "    color = 0\n",
    "    i = state.items\n",
    "    if \"M\" in i:\n",
    "        color |= 2**0\n",
    "    if \"MB\" in i:\n",
    "        color |= 2**1\n",
    "    return color\n",
    "\n",
    "colors = np.zeros(n, dtype=int)\n",
    "for state in k_c1.states():\n",
    "    state_id = embedding[state]\n",
    "    #colors[state_id] |= 2**0\n",
    "    colors[state_id] = state_to_color(state)\n",
    "for state in k_c2.states():\n",
    "    state_id = embedding[state]\n",
    "    #colors[state_id] |= 2**1\n",
    "    colors[state_id] = state_to_color(state)\n",
    "\n",
    "initial_state_id = embedding[initial_state]\n",
    "#colors[initial_state_id] = 4\n",
    "sizes = np.ones(n, dtype=int)\n",
    "for state in big_states:\n",
    "    sizes[embedding[state]] = 400"
   ]
  },
  {
   "cell_type": "code",
   "execution_count": 149,
   "metadata": {},
   "outputs": [
    {
     "data": {
      "image/png": "[encoded data removed]",
      "text/plain": [
       "<Figure size 720x360 with 1 Axes>"
      ]
     },
     "metadata": {
      "needs_background": "light"
     },
     "output_type": "display_data"
    }
   ],
   "source": [
    "figsize(10,5);\n",
    "axis('off');\n",
    "scatter(g12_embedding.embedding_[:,1],\n",
    "        g12_embedding.embedding_[:,0],\n",
    "        s=sizes,\n",
    "        c=colors,\n",
    "        alpha=0.25,\n",
    "        cmap=\"gist_rainbow\");\n",
    "axhline(0,color='black',alpha=0.1);\n",
    "axvline(0,color='black',alpha=0.1);\n",
    "legend_elements = [Line2D([0], [0], marker='o', color=\"w\", markerfacecolor=(1, 0, 0), label='{}', markersize=15),\n",
    "                   Line2D([0], [0], marker='o', color=\"w\", markerfacecolor=(0, 0.5, 1), label='{Morph}', markersize=15),\n",
    "                   Line2D([0], [0], marker='o', color=\"w\", markerfacecolor=(0.35, 1, 0), label='{Missiles}', markersize=15),\n",
    "                   Line2D([0], [0], marker='o', color=\"w\", markerfacecolor=(1, 0, 0.74), label='{Morph, Missiles}', markersize=15),\n",
    "                  ]\n",
    "legend(handles=legend_elements)\n",
    "annotate(\"Start State\", xy=(-0.0025, 0.009))\n",
    "annotate(\"Goal State\", xy=(0.0008, -0.0059))\n",
    "annotate(\"Softlock State\", xy=(0.0076, -0.0050))\n",
    "tight_layout()\n",
    "savefig(\"embedding.pdf\")"
   ]
  },
  {
   "cell_type": "code",
   "execution_count": null,
   "metadata": {},
   "outputs": [],
   "source": []
  }
 ],
 "metadata": {
  "kernelspec": {
   "display_name": "Python 3",
   "language": "python",
   "name": "python3"
  },
  "language_info": {
   "codemirror_mode": {
    "name": "ipython",
    "version": 3
   },
   "file_extension": ".py",
   "mimetype": "text/x-python",
   "name": "python",
   "nbconvert_exporter": "python",
   "pygments_lexer": "ipython3",
   "version": "3.8.0"
  }
 },
 "nbformat": 4,
 "nbformat_minor": 4
}
