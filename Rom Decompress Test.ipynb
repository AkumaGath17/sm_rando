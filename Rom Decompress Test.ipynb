{
 "cells": [
  {
   "cell_type": "code",
   "execution_count": 2,
   "metadata": {},
   "outputs": [],
   "source": [
    "%load_ext autoreload\n",
    "%autoreload 2"
   ]
  },
  {
   "cell_type": "code",
   "execution_count": 3,
   "metadata": {},
   "outputs": [],
   "source": [
    "from rom_tools import romManager\n",
    "from rom_tools import address\n",
    "from rom_tools import byte_ops\n",
    "from rom_tools.compress import decompress\n",
    "from rom_tools.compress import compress"
   ]
  },
  {
   "cell_type": "code",
   "execution_count": 4,
   "metadata": {},
   "outputs": [
    {
     "name": "stdout",
     "output_type": "stream",
     "text": [
      "Something is wrong with this rom\n"
     ]
    }
   ],
   "source": [
    "# Load the ROM\n",
    "romM = romManager.RomManager(\"../sm_guinea_pig.smc\")"
   ]
  },
  {
   "cell_type": "code",
   "execution_count": 5,
   "metadata": {},
   "outputs": [
    {
     "name": "stdout",
     "output_type": "stream",
     "text": [
      "0x792b3\n",
      "b'\\x01\\x00\\x12\\x02\\x05\\x01p\\xa0\\x00\\xf9\\x92\\x12\\xe6\\x00\\xdf\\x92\\xe6\\xe5\\xe8\\xd6\\xc2\\x00\\x00\\x00\\xe0\\x80z\\x84\\xa1\\x80\\xc1\\xc1\\x00\\x00\\x00\\x00\\x00\\x00X\\x80\\x99\\xb8\\xd3\\x91\\xe8\\xd6\\xc2\\x00\\t\\x05\\xe0\\x80z\\x84\\xa1\\x80\\xc1\\xc1\\x00\\x00\\x00\\x00\\x00\\x00X\\x80\\x99\\xb8\\xd3\\x91F\\x89R\\x89'\n"
     ]
    }
   ],
   "source": [
    "# Get the room header for room x0792b3\n",
    "addr = address.Address(0x792b3)\n",
    "print(addr)\n",
    "room_header = romM.readFromRom(addr, 74)\n",
    "print(room_header)"
   ]
  },
  {
   "cell_type": "code",
   "execution_count": 6,
   "metadata": {},
   "outputs": [
    {
     "name": "stdout",
     "output_type": "stream",
     "text": [
      "12769000\n",
      "0xc2d6e8\n",
      "0x105d6e8\n"
     ]
    }
   ],
   "source": [
    "# Get the leveldata as a PC address\n",
    "#TODO...\n",
    "leveldata_ptr_b = room_header[18:21]\n",
    "leveldata_ptr = int.from_bytes(leveldata_ptr_b, byteorder='little')\n",
    "print(leveldata_ptr)\n",
    "print(hex(leveldata_ptr))\n",
    "print(hex(byte_ops.PC_to_SNES(leveldata_ptr)))\n",
    "level_addr = address.Address()\n",
    "#level_addr.from_SNES(int.from_bytes(leveldata_ptr, byteorder='big'))\n",
    "level_addr = 0x2156e8"
   ]
  },
  {
   "cell_type": "code",
   "execution_count": 7,
   "metadata": {},
   "outputs": [],
   "source": [
    "level_size = 0x100\n",
    "#compressed_level_data = romM.readFromRom(level_addr+2, 763)\n",
    "#compressed_level_data = romM.readFromRom(level_addr+2, 738)\n",
    "compressed_level_data = romM.readFromRom(level_addr, 1244)"
   ]
  },
  {
   "cell_type": "code",
   "execution_count": 8,
   "metadata": {
    "scrolled": true
   },
   "outputs": [
    {
     "data": {
      "text/plain": [
       "3842"
      ]
     },
     "execution_count": 8,
     "metadata": {},
     "output_type": "execute_result"
    }
   ],
   "source": [
    "level_data = decompress.decompress(compressed_level_data)\n",
    "len(level_data)"
   ]
  },
  {
   "cell_type": "code",
   "execution_count": 9,
   "metadata": {},
   "outputs": [
    {
     "name": "stdout",
     "output_type": "stream",
     "text": [
      "864\n",
      "b\"A\\x00\\n\\xe9?D\\x80H\\x11\\x89A\\x81\\x11\\xc2\\x04A\\x14\\x8dE\\x0f\\x89A\\x14\\x89\\xc3\\x10\\xc5\\x0e\\xc2\\x0c\\xc7$\\xc9\\n\\xc26A\\x14\\x8dA\\xda\\x8aA\\xdb\\x8aA\\xda\\x8e\\xc3 A\\x12\\x81\\xc4@\\xcd*\\xc4N\\xc2JA\\x8d\\x11\\xc60\\xc3X\\xc2bA\\x19\\x0eA\\x1d\\x0eA\\x19\\x14\\xc4nA\\xda\\x1aA\\xdb\\x8aA\\xdc\\x8a\\xc4$B\\x8d\\x14A\\x0f\\x8d\\xc4 \\xc2\\x06\\xc24\\xc3R\\xcaV\\xc38\\xc3:a\\xffa\\xffa\\xffA\\x0e\\x19\\xc9\\x0e\\xc2LA\\x19\\x11\\xc6`B\\x0f\\x8d\\xc4\\xc0\\xc5,A\\xba\\nA\\xbb\\nA\\xba\\x0e\\xc5 \\xc6\\x8c\\xd0N\\xc2JA\\x1d\\x14\\xc6\\x96\\xc3X\\xc7bA\\x10\\x89A\\x14\\x8d\\xc5BA\\xbc\\nA\\r\\x89\\xc2XB\\x8d\\r\\xc7 \\xc3rB\\x14\\x8d\\xc2\\xda\\xc2\\xf8\\xc6\\x9c\\xc7\\x9a\\xc5\\xa0a\\xffB\\r\\xf1AU\\xff\\xc6\\x12\\xc3\\xee\\xc3N\\xd3\\x1c\\xc7\\xce\\xc3\\xdaA\\x10\\x81\\xc7\\xeeA\\x10\\x85\\xcbNB\\x10\\x89\\xc2|\\xce`A\\x89\\r\\xc8\\x14\\xc3l\\xcdT\\xc3\\xc8\\xc3vA\\x11\\x8dA\\x18\\x89A\\x0f\\x89\\xcf\\x9c\\xc4\\xa0A\\xd9\\rA\\xdd\\xff\\xd4N\\xcf\\x1c\\xcd\\xa8\\x83\\xec\\x01\\xcf\\xee\\xcd>\\xd1\\xe4\\xc3l\\xd3TA\\r\\x89A\\x18\\x89A@\\x94A\\x0c\\xc4\\xd3l\\xcd\\xd0\\xcd\\xde\\xcd\\xec\\xcfv\\xd1\\x1e\\xd30\\xcb\\xe4\\xd56a\\xffA\\x0c\\xc0A@\\x90A`\\x94A,\\xd4\\xd4\\xa0\\xcc\\xd0\\xcd\\xde\\xd3\\xec\\xc9v\\xd1\\x1e\\xd30\\xcb\\xf2\\xd56a\\xffA,\\xd0B`\\x90A\\x9c,A\\xdc\\xff\\xd3\\xa0\\xcc\\xf4\\xcd\\xde\\xd3\\xec\\xc9v\\xd1\\x1e\\xd30\\xcb\\xf2\\xd56\\xc2\\xa0A\\xd8`A\\x98@A\\x9c\\x0c\\xc4\\xa0A\\x0e\\x11A\\x0f\\x11A\\x0e\\x15\\xd7\\xf4\\xcd\\xde\\xd3\\xec\\xc9v\\xd1\\x1e\\xd30B\\r\\x81\\x88\\xd9\\x02\\xcd6\\xc2\\x8aB\\x15\\x0e\\xc3\\xfeA\\x0c\\xd8A@\\x98A\\x18\\x81E\\x0f\\x81A\\x14\\x81\\x82\\\\\\x01B\\x85\\r\\xd3@\\xc3\\xbc\\xcb\\xbe\\xcb\\\\\\xce\\xa0\\x95\\x11\\x04\\xd20\\x93\\xe6\\x02\\xc5\\xb8\\xc2\\x8aA\\x81\\x14C\\x85\\x0f\\xc2\\x9aA\\x18\\x81\\x8en\\x01A\\x85\\x0e\\xc4\\xbaA\\x0e\\x11B\\x14\\x81\\xc6\\x0c\\xc3L\\x83\\xda\\x01\\xc7P\\xcd\\x1c\\xce\\xa0\\x94\\xa7\\x03\\x82Z\\x02\\xce0\\xd7D\\xc3xD\\x11\\x85\\xc2\\xa4\\xc3t\\xc2x\\xcc\\xa0\\x87\\xd6\\x02\\x85\\xce\\x02A\\x10\\x85A\\xba\\x02A\\xbb\\x02A\\xba\\x06\\xc2\\xa0\\xc4\\xbc\\xc3\\xd2\\x84H\\x06\\xc4\\xe2\\xcf\\xa2\\x85f\\x06\\xc4$\\xc2\\n\\xc3\\xe8\\xc3>A\\xbc\\x02\\xc4t\\xc2\\xee\\xc5\\x14\\xd3\\xf2\\xca\\xca\\xc5\\x9e\\xd3\\xa0\\xc6\\xae\\xc5\\x86\\xc2\\xc6\\xc4\\x92A\\xda\\x82A\\xdb\\x82A\\xda\\x86\\xc5\\x0e\\xc8$\\xc6\\xdc\\xc7\\xb0\\xc5\\xb6\\xc7\\xb8\\xcb\\x1e\\xc3>A\\xdc\\x82\\xc9\\x18\\xc92\\xc7\\xe4\\xc2\\xf2\\xccF\\xc2\\xfc\\xcd\\x9eA\\x81D\\xf1>\\x03\\x00\\xe8\\xd8\\x00\\x00A\\x93\\xd2A\\x92\\x00\\xc2\\x06\\xd5\\x1cA\\x93\\xd2\\xc2\\xf8a\\x92\\xc3\\x07a\\x92\\xcf\\x16\\xcc'\\xc3\\x1f\\xc3\\x07\\xc31A\\x00\\x00\\xc5\\x06\\xc3<\\xc5\\x1a\\xc6j\\xc6\\xffA\\x07\\xff\\xc4\\x1b\\xc6'\\xc5\\x0e\\xc3g\\xc86\\xd4\\xffC\\x07\\xff\\xc6T\\xc3\\xb2\\xc9d\\xa2O\\x0b\\xcb\\xff\\xcb\\x0e\\xc2\\xbb\\xc5\\xc4\\xceJ\\xc56\\xcb8A\\x01A\\xcf \\xc7\\x99\\xc7\\xa0\\xcd\\x85\\xcb\\x18\\xc5\\x80\\xca\\x1bB\\x00@A\\x01\\xff\\xd0\\x92\\xc6\\xa7\\xcc\\xae\\xca\\x85\\xc9\\xc6\\xd1\\xa0b\\xffA\\xfe\\x00\\xf8J\\xa0A\\xfe\\x00A\\x01\\xfdA\\x00\\x00a\\x12AR\\x00\\xf83\\xa0\\xcc\\xbb\\xc4E\\xc2M\\xcd\\x1d\\xc4\\x19\\xc6_\\xcb7\\xcb\\x85\\xd24\\xd1G\\xc2\\xa2A\\x12\\x00\\xc3\\x06\\xc8W\\xcc\\x0e\\xca\\xa0\\xc8&\\xcb0\\xc2<\\xf8%e\\xc7\\xb3A\\x00\\x00\\xc6\\xb7\\xc3:\\xd2\\xc1\\xf8,\\xbd\\xf8=>\\xf8{|\\xd0\\xf8\\xff\"\n"
     ]
    }
   ],
   "source": [
    "#recompressed_level_data = compress.compress(level_data[0:1000], min_size=50, debug=True)\n",
    "recompressed_level_data = compress.greedy_compress(level_data, min_size=1)\n",
    "print(len(recompressed_level_data))\n",
    "print(recompressed_level_data)"
   ]
  },
  {
   "cell_type": "code",
   "execution_count": 10,
   "metadata": {},
   "outputs": [],
   "source": [
    "#cf = open(\"tmp.bin\", \"wb\")\n",
    "#cf.write(compressed_level_data)\n",
    "#cf.close()"
   ]
  },
  {
   "cell_type": "code",
   "execution_count": 11,
   "metadata": {},
   "outputs": [],
   "source": [
    "#cf = open(\"tmp.bin\", \"wb\")\n",
    "#cf.write(recompressed_level_data)\n",
    "#cf.close()"
   ]
  },
  {
   "cell_type": "code",
   "execution_count": 12,
   "metadata": {},
   "outputs": [
    {
     "name": "stdout",
     "output_type": "stream",
     "text": [
      "b'\\x00\\n'\n"
     ]
    },
    {
     "data": {
      "text/plain": [
       "2560"
      ]
     },
     "execution_count": 12,
     "metadata": {},
     "output_type": "execute_result"
    }
   ],
   "source": [
    "print(level_data[0:2])\n",
    "int.from_bytes(level_data[0:2], byteorder='little')"
   ]
  },
  {
   "cell_type": "code",
   "execution_count": 13,
   "metadata": {},
   "outputs": [],
   "source": [
    "from world_rando import tiles\n",
    "from world_rando import room_viz"
   ]
  },
  {
   "cell_type": "code",
   "execution_count": 69,
   "metadata": {},
   "outputs": [],
   "source": [
    "level = tiles.level_from_bytes(level_data, 80, 16)"
   ]
  },
  {
   "cell_type": "code",
   "execution_count": 74,
   "metadata": {},
   "outputs": [
    {
     "data": {
      "image/png": "[encoded data removed]",
      "text/plain": [
       "<PIL.Image.Image image mode=RGBA size=1280x256 at 0x7F2DB099ADA0>"
      ]
     },
     "execution_count": 74,
     "metadata": {},
     "output_type": "execute_result"
    }
   ],
   "source": [
    "room_viz.room_viz(level, 80, 16, \"test.png\", \"encoding/room_tiles\")"
   ]
  },
  {
   "cell_type": "code",
   "execution_count": 75,
   "metadata": {},
   "outputs": [],
   "source": [
    "offset = 402*2\n",
    "tile_bytes = level_data[offset + 2:offset + 4]\n",
    "tile_int = int.from_bytes(tile_bytes, byteorder=\"little\")\n",
    "tile_bts = level_data[(offset * 3)//2]"
   ]
  },
  {
   "cell_type": "code",
   "execution_count": 78,
   "metadata": {},
   "outputs": [],
   "source": [
    "#print(tile_int >> 12)\n",
    "#print((tile_int >> 10) & 1)\n",
    "#print((tile_int >> 11) & 1)\n",
    "#print(tile_int & 0b1111111111)"
   ]
  },
  {
   "cell_type": "code",
   "execution_count": null,
   "metadata": {},
   "outputs": [],
   "source": []
  },
  {
   "cell_type": "code",
   "execution_count": null,
   "metadata": {},
   "outputs": [],
   "source": []
  }
 ],
 "metadata": {
  "kernelspec": {
   "display_name": "Python 3",
   "language": "python",
   "name": "python3"
  },
  "language_info": {
   "codemirror_mode": {
    "name": "ipython",
    "version": 3
   },
   "file_extension": ".py",
   "mimetype": "text/x-python",
   "name": "python",
   "nbconvert_exporter": "python",
   "pygments_lexer": "ipython3",
   "version": "3.6.5"
  }
 },
 "nbformat": 4,
 "nbformat_minor": 2
}
